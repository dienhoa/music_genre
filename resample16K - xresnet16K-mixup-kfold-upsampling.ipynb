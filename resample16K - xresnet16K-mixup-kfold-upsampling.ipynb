{
 "cells": [
  {
   "cell_type": "code",
   "execution_count": 1,
   "id": "b34fbcac",
   "metadata": {},
   "outputs": [],
   "source": [
    "from fastai.vision.all import *\n",
    "import torchaudio\n",
    "from sklearn.model_selection import StratifiedKFold\n"
   ]
  },
  {
   "cell_type": "code",
   "execution_count": 2,
   "id": "b07cdd0c",
   "metadata": {},
   "outputs": [],
   "source": [
    "df_train = pd.read_csv('/home/ubuntu/.kaggle/kaggle-pog-series-s01e02/train.csv')\n",
    "df_test = pd.read_csv('/home/ubuntu/.kaggle/kaggle-pog-series-s01e02/test.csv')\n",
    "submission = pd.read_csv('/home/ubuntu/.kaggle/kaggle-pog-series-s01e02/sample_submission.csv')"
   ]
  },
  {
   "cell_type": "code",
   "execution_count": 3,
   "id": "963abb33",
   "metadata": {},
   "outputs": [],
   "source": [
    "train_path = Path('/home/ubuntu/.kaggle/resampled/resampled_train/')\n",
    "test_path = Path('/home/ubuntu/.kaggle/resampled/resampled_test/')"
   ]
  },
  {
   "cell_type": "code",
   "execution_count": 4,
   "id": "b6fb6a4f",
   "metadata": {},
   "outputs": [],
   "source": [
    "train_files = get_files(train_path, extensions='.wav')\n"
   ]
  },
  {
   "cell_type": "code",
   "execution_count": 5,
   "id": "cc722551",
   "metadata": {},
   "outputs": [
    {
     "data": {
      "text/plain": [
       "(#19909) [Path('/home/ubuntu/.kaggle/resampled/resampled_train/018663_16k.wav'),Path('/home/ubuntu/.kaggle/resampled/resampled_train/008647_16k.wav'),Path('/home/ubuntu/.kaggle/resampled/resampled_train/018904_16k.wav'),Path('/home/ubuntu/.kaggle/resampled/resampled_train/001706_16k.wav'),Path('/home/ubuntu/.kaggle/resampled/resampled_train/003820_16k.wav'),Path('/home/ubuntu/.kaggle/resampled/resampled_train/013023_16k.wav'),Path('/home/ubuntu/.kaggle/resampled/resampled_train/009569_16k.wav'),Path('/home/ubuntu/.kaggle/resampled/resampled_train/017429_16k.wav'),Path('/home/ubuntu/.kaggle/resampled/resampled_train/008264_16k.wav'),Path('/home/ubuntu/.kaggle/resampled/resampled_train/000141_16k.wav')...]"
      ]
     },
     "execution_count": 5,
     "metadata": {},
     "output_type": "execute_result"
    }
   ],
   "source": [
    "train_files"
   ]
  },
  {
   "cell_type": "code",
   "execution_count": 6,
   "id": "566ebff4",
   "metadata": {},
   "outputs": [],
   "source": [
    "def get_y(filename):\n",
    "    resample_name = filename.name.split('_')[0] + '.ogg'\n",
    "    return df_train[df_train['filename']==resample_name]['genre'].values[0]"
   ]
  },
  {
   "cell_type": "code",
   "execution_count": 7,
   "id": "8c2b5f68",
   "metadata": {},
   "outputs": [
    {
     "data": {
      "text/plain": [
       "'Chiptune / Glitch'"
      ]
     },
     "execution_count": 7,
     "metadata": {},
     "output_type": "execute_result"
    }
   ],
   "source": [
    "get_y(train_files[0])\n"
   ]
  },
  {
   "cell_type": "code",
   "execution_count": 8,
   "id": "d0bb6cd2",
   "metadata": {},
   "outputs": [],
   "source": [
    "# Excluded unusual music thanks to this thread: https://www.kaggle.com/c/kaggle-pog-series-s01e02/discussion/312842\n",
    "def get_items(path): \n",
    "    excluded_files = [\"010449_16k.wav\" , \"005589_16k.wav\" , \"004921_16k.wav\", \"019511_16k.wav\" , \"013375_16k.wav\" , \"024247_16k.wav\", \"024156_16k.wav\"]\n",
    "    items = get_files(path, extensions='.wav')\n",
    "    items = [item for item in items if item.name not in excluded_files]\n",
    "    \n",
    "    ## For fast iteration\n",
    "#     items = [item for item in items if get_y(item) in ['Punk', 'Rock']]\n",
    "    \n",
    "#     items.shuffle()\n",
    "    return L(items)"
   ]
  },
  {
   "cell_type": "code",
   "execution_count": 9,
   "id": "5889a7b6",
   "metadata": {},
   "outputs": [],
   "source": [
    "N_FFT = 2048\n",
    "HOP_LEN = 512"
   ]
  },
  {
   "cell_type": "code",
   "execution_count": 10,
   "id": "d49ef53c",
   "metadata": {},
   "outputs": [],
   "source": [
    "filename = train_files[0]\n"
   ]
  },
  {
   "cell_type": "code",
   "execution_count": 11,
   "id": "7c6e664c",
   "metadata": {},
   "outputs": [
    {
     "data": {
      "text/plain": [
       "'018663.ogg'"
      ]
     },
     "execution_count": 11,
     "metadata": {},
     "output_type": "execute_result"
    }
   ],
   "source": [
    "filename.name.split('_')[0] + '.ogg'\n"
   ]
  },
  {
   "cell_type": "code",
   "execution_count": 12,
   "id": "1444cdc0",
   "metadata": {},
   "outputs": [],
   "source": [
    "def create_spectrogram(filename):\n",
    "    audio, sr = torchaudio.load(filename)\n",
    "    specgram = torchaudio.transforms.MelSpectrogram(sample_rate=sr, \n",
    "                                                    n_fft=N_FFT, \n",
    "                                                    win_length=N_FFT, \n",
    "                                                    hop_length=HOP_LEN*2,\n",
    "                                                    center=True,\n",
    "                                                    pad_mode=\"reflect\",\n",
    "                                                    power=2.0,\n",
    "                                                    norm='slaney',\n",
    "                                                    onesided=True,\n",
    "                                                    n_mels=128,\n",
    "                                                    mel_scale=\"htk\"\n",
    "                                                   )(audio)[0]\n",
    "    specgram = torchaudio.transforms.AmplitudeToDB()(specgram)\n",
    "    specgram = specgram - specgram.min()\n",
    "    specgram = specgram/specgram.max()*255\n",
    "    \n",
    "    \n",
    "    return specgram"
   ]
  },
  {
   "cell_type": "code",
   "execution_count": 13,
   "id": "f58465de",
   "metadata": {},
   "outputs": [],
   "source": [
    "filename = train_files[0]\n",
    "spec_default = create_spectrogram(filename)"
   ]
  },
  {
   "cell_type": "code",
   "execution_count": 14,
   "id": "58e14d87",
   "metadata": {},
   "outputs": [
    {
     "data": {
      "text/plain": [
       "torch.Size([128, 469])"
      ]
     },
     "execution_count": 14,
     "metadata": {},
     "output_type": "execute_result"
    }
   ],
   "source": [
    "spec_default.shape\n"
   ]
  },
  {
   "cell_type": "code",
   "execution_count": 15,
   "id": "fb0d48e9",
   "metadata": {},
   "outputs": [],
   "source": [
    "items = get_items(train_path)\n",
    "labels = [get_y(item) for item in items]\n",
    "count = Counter(labels)"
   ]
  },
  {
   "cell_type": "code",
   "execution_count": 16,
   "id": "568ce4fe",
   "metadata": {},
   "outputs": [],
   "source": [
    "test_items = get_items(test_path)"
   ]
  },
  {
   "cell_type": "code",
   "execution_count": 17,
   "id": "ee81b6b0",
   "metadata": {},
   "outputs": [],
   "source": [
    "splitter = TrainTestSplitter(test_size=0.2, random_state=42, stratify=labels)"
   ]
  },
  {
   "cell_type": "code",
   "execution_count": 18,
   "id": "627abd89",
   "metadata": {},
   "outputs": [],
   "source": [
    "kf = StratifiedKFold(n_splits=8, shuffle=True)"
   ]
  },
  {
   "cell_type": "code",
   "execution_count": 19,
   "id": "8cf07246",
   "metadata": {},
   "outputs": [],
   "source": [
    "splits_kfold=[]\n",
    "for _, val_idx in kf.split(np.array(items), labels):\n",
    "    splits = IndexSplitter(val_idx)\n",
    "    split = splits(items)\n",
    "    split_list = [split[0], split[1]]\n",
    "    splits_kfold.append(split_list)"
   ]
  },
  {
   "cell_type": "code",
   "execution_count": 20,
   "id": "8958945c",
   "metadata": {},
   "outputs": [],
   "source": [
    "def alter_learner(learn, channels=1):\n",
    "    learn.model[0][0][0].in_channels=channels\n",
    "    learn.model[0][0][0].weight = torch.nn.parameter.Parameter(learn.model[0][0][0].weight[:,1,:,:].unsqueeze(1))"
   ]
  },
  {
   "cell_type": "code",
   "execution_count": 21,
   "id": "b8aaea99",
   "metadata": {},
   "outputs": [],
   "source": [
    "def genreid_from_genre(genre):\n",
    "    return int(genre2id[genre2id['genre'] == genre]['genre_id'].values[0])"
   ]
  },
  {
   "cell_type": "code",
   "execution_count": 22,
   "id": "71a27e72",
   "metadata": {},
   "outputs": [],
   "source": [
    "# wgts = [draw_pct[dsets.vocab[label]] for img, label in dsets.train]"
   ]
  },
  {
   "cell_type": "code",
   "execution_count": 23,
   "id": "1454116c",
   "metadata": {},
   "outputs": [],
   "source": [
    "draw_pct = {k:1/v for (k, v) in count.items()}"
   ]
  },
  {
   "cell_type": "code",
   "execution_count": 24,
   "id": "62ac181d",
   "metadata": {},
   "outputs": [
    {
     "data": {
      "text/plain": [
       "{'Chiptune / Glitch': 0.000847457627118644,\n",
       " 'International': 0.0012285012285012285,\n",
       " 'Punk': 0.0003874467260751647,\n",
       " 'Hip-Hop': 0.0005698005698005698,\n",
       " 'Ambient Electronic': 0.001256281407035176,\n",
       " 'Electronic': 0.00032562683165092806,\n",
       " 'Folk': 0.0008244023083264633,\n",
       " 'Country': 0.007042253521126761,\n",
       " 'Rock': 0.00032310177705977385,\n",
       " 'Experimental': 0.0005558643690939411,\n",
       " 'Pop': 0.0010582010582010583,\n",
       " 'Instrumental': 0.0009587727708533077,\n",
       " 'Classical': 0.00202020202020202,\n",
       " 'Old-Time / Historic': 0.0024509803921568627,\n",
       " 'Jazz': 0.0032679738562091504,\n",
       " 'Spoken': 0.010638297872340425,\n",
       " 'Soul-RnB': 0.010638297872340425,\n",
       " 'Blues': 0.017241379310344827,\n",
       " 'Easy Listening': 0.07692307692307693}"
      ]
     },
     "execution_count": 24,
     "metadata": {},
     "output_type": "execute_result"
    }
   ],
   "source": [
    "draw_pct"
   ]
  },
  {
   "cell_type": "code",
   "execution_count": 25,
   "id": "d090d0f3",
   "metadata": {},
   "outputs": [],
   "source": [
    "class CustomDataBlock(DataBlock):\n",
    "    def datasets(self:DataBlock, source, verbose=False, splits=None):\n",
    "        self.source = source                     ; pv(f\"Collecting items from {source}\", verbose)\n",
    "        items = (self.get_items or noop)(source) ; pv(f\"Found {len(items)} items\", verbose)\n",
    "        if splits is None:\n",
    "            splits = (self.splitter or RandomSplitter())(items)\n",
    "        else:\n",
    "            splits = splits\n",
    "        pv(f\"{len(splits)} datasets of sizes {','.join([str(len(s)) for s in splits])}\", verbose)\n",
    "        return Datasets(items, tfms=self._combine_type_tfms(), splits=splits, dl_type=self.dl_type, n_inp=self.n_inp, verbose=verbose)\n",
    "    def dataloaders(self, source, path='.', verbose=False, splits=None, **kwargs):\n",
    "        dsets = self.datasets(source, verbose=verbose, splits=splits)\n",
    "        kwargs = {**self.dls_kwargs, **kwargs, 'verbose': verbose}\n",
    "        return dsets.dataloaders(path=path, after_item=self.item_tfms, after_batch=self.batch_tfms, **kwargs)"
   ]
  },
  {
   "cell_type": "code",
   "execution_count": 26,
   "id": "05ff73f7",
   "metadata": {},
   "outputs": [],
   "source": [
    "def get_preds(splits_1fold, nb_epoch=45):\n",
    "    \n",
    "    db = CustomDataBlock(\n",
    "        blocks=(ImageBlock, CategoryBlock),\n",
    "        get_x=create_spectrogram,\n",
    "        get_y=get_y,\n",
    "        item_tfms=[Resize(128)],\n",
    "        batch_tfms=aug_transforms(max_rotate=0, max_warp=0,size=128))\n",
    "    \n",
    "    wgts = [draw_pct[label] for label in L(labels)[splits_1fold[0]]]\n",
    "    dls = db.dataloaders(items, splits=splits_1fold, dl_type=WeightedDL, wgts=wgts)\n",
    "    \n",
    "    mixup = MixUp(0.4)\n",
    "    model = partial(xse_resnext50, pool=MaxPool, act_cls=Mish)\n",
    "    \n",
    "    learn = cnn_learner(dls, \n",
    "                        model, \n",
    "                        metrics=[accuracy, F1Score(average='micro')], \n",
    "                        pretrained=False, \n",
    "                        loss_func=LabelSmoothingCrossEntropy(), \n",
    "                        opt_func=ranger, \n",
    "                       )\n",
    "    \n",
    "    learn.to_fp16()\n",
    "    nchannels = dls.one_batch()[0].shape[1]\n",
    "    alter_learner(learn, nchannels)\n",
    "    \n",
    "    learn.fit_flat_cos(nb_epoch, 0.003, cbs=[mixup, CSVLogger(fname=f'history_{int(time.time())}.csv'), ShowGraphCallback()])\n",
    "    \n",
    "    test_dl = dls.test_dl(test_items)\n",
    "    preds = learn.get_preds(dl=test_dl)\n",
    "    return preds, learn\n"
   ]
  },
  {
   "cell_type": "code",
   "execution_count": null,
   "id": "d4a5fd92",
   "metadata": {},
   "outputs": [
    {
     "data": {
      "text/html": [
       "\n",
       "<style>\n",
       "    /* Turns off some styling */\n",
       "    progress {\n",
       "        /* gets rid of default border in Firefox and Opera. */\n",
       "        border: none;\n",
       "        /* Needs to be in here for Safari polyfill so background images work as expected. */\n",
       "        background-size: auto;\n",
       "    }\n",
       "    .progress-bar-interrupted, .progress-bar-interrupted::-webkit-progress-bar {\n",
       "        background: #F44336;\n",
       "    }\n",
       "</style>\n"
      ],
      "text/plain": [
       "<IPython.core.display.HTML object>"
      ]
     },
     "metadata": {},
     "output_type": "display_data"
    },
    {
     "data": {
      "text/html": [
       "<table border=\"1\" class=\"dataframe\">\n",
       "  <thead>\n",
       "    <tr style=\"text-align: left;\">\n",
       "      <th>epoch</th>\n",
       "      <th>train_loss</th>\n",
       "      <th>valid_loss</th>\n",
       "      <th>accuracy</th>\n",
       "      <th>f1_score</th>\n",
       "      <th>time</th>\n",
       "    </tr>\n",
       "  </thead>\n",
       "  <tbody>\n",
       "    <tr>\n",
       "      <td>0</td>\n",
       "      <td>3.015041</td>\n",
       "      <td>2.725797</td>\n",
       "      <td>0.221865</td>\n",
       "      <td>0.221865</td>\n",
       "      <td>02:18</td>\n",
       "    </tr>\n",
       "    <tr>\n",
       "      <td>1</td>\n",
       "      <td>2.625832</td>\n",
       "      <td>2.465771</td>\n",
       "      <td>0.294212</td>\n",
       "      <td>0.294212</td>\n",
       "      <td>02:18</td>\n",
       "    </tr>\n",
       "    <tr>\n",
       "      <td>2</td>\n",
       "      <td>2.502200</td>\n",
       "      <td>2.686411</td>\n",
       "      <td>0.366961</td>\n",
       "      <td>0.366961</td>\n",
       "      <td>02:16</td>\n",
       "    </tr>\n",
       "    <tr>\n",
       "      <td>3</td>\n",
       "      <td>2.351952</td>\n",
       "      <td>2.460066</td>\n",
       "      <td>0.268891</td>\n",
       "      <td>0.268891</td>\n",
       "      <td>02:20</td>\n",
       "    </tr>\n",
       "    <tr>\n",
       "      <td>4</td>\n",
       "      <td>2.248015</td>\n",
       "      <td>2.170644</td>\n",
       "      <td>0.368167</td>\n",
       "      <td>0.368167</td>\n",
       "      <td>02:16</td>\n",
       "    </tr>\n",
       "    <tr>\n",
       "      <td>5</td>\n",
       "      <td>2.156848</td>\n",
       "      <td>2.056906</td>\n",
       "      <td>0.393087</td>\n",
       "      <td>0.393087</td>\n",
       "      <td>02:16</td>\n",
       "    </tr>\n",
       "    <tr>\n",
       "      <td>6</td>\n",
       "      <td>2.122908</td>\n",
       "      <td>2.173110</td>\n",
       "      <td>0.338023</td>\n",
       "      <td>0.338023</td>\n",
       "      <td>02:16</td>\n",
       "    </tr>\n",
       "    <tr>\n",
       "      <td>7</td>\n",
       "      <td>2.076901</td>\n",
       "      <td>2.013061</td>\n",
       "      <td>0.416399</td>\n",
       "      <td>0.416399</td>\n",
       "      <td>02:17</td>\n",
       "    </tr>\n",
       "    <tr>\n",
       "      <td>8</td>\n",
       "      <td>2.044363</td>\n",
       "      <td>2.071053</td>\n",
       "      <td>0.395096</td>\n",
       "      <td>0.395096</td>\n",
       "      <td>02:16</td>\n",
       "    </tr>\n",
       "    <tr>\n",
       "      <td>9</td>\n",
       "      <td>2.023349</td>\n",
       "      <td>2.036136</td>\n",
       "      <td>0.395498</td>\n",
       "      <td>0.395498</td>\n",
       "      <td>02:16</td>\n",
       "    </tr>\n",
       "    <tr>\n",
       "      <td>10</td>\n",
       "      <td>1.972858</td>\n",
       "      <td>1.956925</td>\n",
       "      <td>0.433682</td>\n",
       "      <td>0.433682</td>\n",
       "      <td>02:17</td>\n",
       "    </tr>\n",
       "    <tr>\n",
       "      <td>11</td>\n",
       "      <td>1.952014</td>\n",
       "      <td>1.920431</td>\n",
       "      <td>0.456190</td>\n",
       "      <td>0.456190</td>\n",
       "      <td>02:16</td>\n",
       "    </tr>\n",
       "    <tr>\n",
       "      <td>12</td>\n",
       "      <td>1.939087</td>\n",
       "      <td>1.943394</td>\n",
       "      <td>0.452974</td>\n",
       "      <td>0.452974</td>\n",
       "      <td>02:17</td>\n",
       "    </tr>\n",
       "    <tr>\n",
       "      <td>13</td>\n",
       "      <td>1.916859</td>\n",
       "      <td>1.904307</td>\n",
       "      <td>0.452170</td>\n",
       "      <td>0.452170</td>\n",
       "      <td>02:17</td>\n",
       "    </tr>\n",
       "    <tr>\n",
       "      <td>14</td>\n",
       "      <td>1.884892</td>\n",
       "      <td>1.894413</td>\n",
       "      <td>0.446945</td>\n",
       "      <td>0.446945</td>\n",
       "      <td>02:16</td>\n",
       "    </tr>\n",
       "    <tr>\n",
       "      <td>15</td>\n",
       "      <td>1.882501</td>\n",
       "      <td>2.029868</td>\n",
       "      <td>0.400723</td>\n",
       "      <td>0.400723</td>\n",
       "      <td>02:16</td>\n",
       "    </tr>\n",
       "    <tr>\n",
       "      <td>16</td>\n",
       "      <td>1.853243</td>\n",
       "      <td>1.871105</td>\n",
       "      <td>0.461817</td>\n",
       "      <td>0.461817</td>\n",
       "      <td>02:17</td>\n",
       "    </tr>\n",
       "    <tr>\n",
       "      <td>17</td>\n",
       "      <td>1.831997</td>\n",
       "      <td>1.842841</td>\n",
       "      <td>0.469855</td>\n",
       "      <td>0.469855</td>\n",
       "      <td>02:17</td>\n",
       "    </tr>\n",
       "    <tr>\n",
       "      <td>18</td>\n",
       "      <td>1.831410</td>\n",
       "      <td>1.937446</td>\n",
       "      <td>0.445338</td>\n",
       "      <td>0.445338</td>\n",
       "      <td>02:16</td>\n",
       "    </tr>\n",
       "    <tr>\n",
       "      <td>19</td>\n",
       "      <td>1.835096</td>\n",
       "      <td>1.801752</td>\n",
       "      <td>0.492765</td>\n",
       "      <td>0.492765</td>\n",
       "      <td>02:18</td>\n",
       "    </tr>\n",
       "    <tr>\n",
       "      <td>20</td>\n",
       "      <td>1.792138</td>\n",
       "      <td>1.812626</td>\n",
       "      <td>0.485129</td>\n",
       "      <td>0.485129</td>\n",
       "      <td>02:17</td>\n",
       "    </tr>\n",
       "    <tr>\n",
       "      <td>21</td>\n",
       "      <td>1.767478</td>\n",
       "      <td>1.857112</td>\n",
       "      <td>0.462219</td>\n",
       "      <td>0.462219</td>\n",
       "      <td>02:16</td>\n",
       "    </tr>\n",
       "    <tr>\n",
       "      <td>22</td>\n",
       "      <td>1.761201</td>\n",
       "      <td>1.826809</td>\n",
       "      <td>0.469051</td>\n",
       "      <td>0.469051</td>\n",
       "      <td>02:17</td>\n",
       "    </tr>\n",
       "    <tr>\n",
       "      <td>23</td>\n",
       "      <td>1.757723</td>\n",
       "      <td>1.810150</td>\n",
       "      <td>0.482315</td>\n",
       "      <td>0.482315</td>\n",
       "      <td>02:16</td>\n",
       "    </tr>\n",
       "    <tr>\n",
       "      <td>24</td>\n",
       "      <td>1.712688</td>\n",
       "      <td>1.831689</td>\n",
       "      <td>0.469051</td>\n",
       "      <td>0.469051</td>\n",
       "      <td>02:16</td>\n",
       "    </tr>\n",
       "    <tr>\n",
       "      <td>25</td>\n",
       "      <td>1.719491</td>\n",
       "      <td>1.804559</td>\n",
       "      <td>0.485129</td>\n",
       "      <td>0.485129</td>\n",
       "      <td>02:17</td>\n",
       "    </tr>\n",
       "    <tr>\n",
       "      <td>26</td>\n",
       "      <td>1.715693</td>\n",
       "      <td>1.789035</td>\n",
       "      <td>0.492363</td>\n",
       "      <td>0.492363</td>\n",
       "      <td>02:17</td>\n",
       "    </tr>\n",
       "    <tr>\n",
       "      <td>27</td>\n",
       "      <td>1.693316</td>\n",
       "      <td>1.816854</td>\n",
       "      <td>0.479502</td>\n",
       "      <td>0.479502</td>\n",
       "      <td>02:16</td>\n",
       "    </tr>\n",
       "    <tr>\n",
       "      <td>28</td>\n",
       "      <td>1.716590</td>\n",
       "      <td>1.791598</td>\n",
       "      <td>0.504823</td>\n",
       "      <td>0.504823</td>\n",
       "      <td>02:17</td>\n",
       "    </tr>\n",
       "    <tr>\n",
       "      <td>29</td>\n",
       "      <td>1.696882</td>\n",
       "      <td>1.791853</td>\n",
       "      <td>0.493971</td>\n",
       "      <td>0.493971</td>\n",
       "      <td>02:17</td>\n",
       "    </tr>\n",
       "    <tr>\n",
       "      <td>30</td>\n",
       "      <td>1.674117</td>\n",
       "      <td>1.775394</td>\n",
       "      <td>0.507637</td>\n",
       "      <td>0.507637</td>\n",
       "      <td>02:17</td>\n",
       "    </tr>\n",
       "    <tr>\n",
       "      <td>31</td>\n",
       "      <td>1.647489</td>\n",
       "      <td>1.787585</td>\n",
       "      <td>0.508039</td>\n",
       "      <td>0.508039</td>\n",
       "      <td>02:17</td>\n",
       "    </tr>\n",
       "    <tr>\n",
       "      <td>32</td>\n",
       "      <td>1.639278</td>\n",
       "      <td>1.775308</td>\n",
       "      <td>0.526527</td>\n",
       "      <td>0.526527</td>\n",
       "      <td>02:16</td>\n",
       "    </tr>\n",
       "    <tr>\n",
       "      <td>33</td>\n",
       "      <td>1.663996</td>\n",
       "      <td>1.826214</td>\n",
       "      <td>0.483923</td>\n",
       "      <td>0.483923</td>\n",
       "      <td>02:16</td>\n",
       "    </tr>\n",
       "    <tr>\n",
       "      <td>34</td>\n",
       "      <td>1.635026</td>\n",
       "      <td>1.791849</td>\n",
       "      <td>0.504421</td>\n",
       "      <td>0.504421</td>\n",
       "      <td>02:16</td>\n",
       "    </tr>\n",
       "    <tr>\n",
       "      <td>35</td>\n",
       "      <td>1.627561</td>\n",
       "      <td>1.779292</td>\n",
       "      <td>0.507235</td>\n",
       "      <td>0.507235</td>\n",
       "      <td>02:16</td>\n",
       "    </tr>\n",
       "    <tr>\n",
       "      <td>36</td>\n",
       "      <td>1.593741</td>\n",
       "      <td>1.756801</td>\n",
       "      <td>0.519695</td>\n",
       "      <td>0.519695</td>\n",
       "      <td>02:16</td>\n",
       "    </tr>\n",
       "    <tr>\n",
       "      <td>37</td>\n",
       "      <td>1.584993</td>\n",
       "      <td>1.787957</td>\n",
       "      <td>0.513264</td>\n",
       "      <td>0.513264</td>\n",
       "      <td>02:16</td>\n",
       "    </tr>\n",
       "    <tr>\n",
       "      <td>38</td>\n",
       "      <td>1.567483</td>\n",
       "      <td>1.742211</td>\n",
       "      <td>0.534164</td>\n",
       "      <td>0.534164</td>\n",
       "      <td>02:16</td>\n",
       "    </tr>\n",
       "    <tr>\n",
       "      <td>39</td>\n",
       "      <td>1.535691</td>\n",
       "      <td>1.733586</td>\n",
       "      <td>0.546222</td>\n",
       "      <td>0.546222</td>\n",
       "      <td>02:16</td>\n",
       "    </tr>\n",
       "    <tr>\n",
       "      <td>40</td>\n",
       "      <td>1.519778</td>\n",
       "      <td>1.728319</td>\n",
       "      <td>0.544212</td>\n",
       "      <td>0.544212</td>\n",
       "      <td>02:16</td>\n",
       "    </tr>\n",
       "    <tr>\n",
       "      <td>41</td>\n",
       "      <td>1.500032</td>\n",
       "      <td>1.705645</td>\n",
       "      <td>0.553457</td>\n",
       "      <td>0.553457</td>\n",
       "      <td>02:16</td>\n",
       "    </tr>\n",
       "    <tr>\n",
       "      <td>42</td>\n",
       "      <td>1.488864</td>\n",
       "      <td>1.705199</td>\n",
       "      <td>0.555064</td>\n",
       "      <td>0.555064</td>\n",
       "      <td>02:17</td>\n",
       "    </tr>\n",
       "    <tr>\n",
       "      <td>43</td>\n",
       "      <td>1.492945</td>\n",
       "      <td>1.706157</td>\n",
       "      <td>0.553055</td>\n",
       "      <td>0.553055</td>\n",
       "      <td>02:16</td>\n",
       "    </tr>\n",
       "    <tr>\n",
       "      <td>44</td>\n",
       "      <td>1.475710</td>\n",
       "      <td>1.703132</td>\n",
       "      <td>0.551849</td>\n",
       "      <td>0.551849</td>\n",
       "      <td>02:17</td>\n",
       "    </tr>\n",
       "  </tbody>\n",
       "</table>"
      ],
      "text/plain": [
       "<IPython.core.display.HTML object>"
      ]
     },
     "metadata": {},
     "output_type": "display_data"
    },
    {
     "data": {
      "image/png": "[encoded data removed]",
      "text/plain": [
       "<Figure size 432x288 with 1 Axes>"
      ]
     },
     "metadata": {},
     "output_type": "display_data"
    },
    {
     "data": {
      "text/html": [
       "\n",
       "<style>\n",
       "    /* Turns off some styling */\n",
       "    progress {\n",
       "        /* gets rid of default border in Firefox and Opera. */\n",
       "        border: none;\n",
       "        /* Needs to be in here for Safari polyfill so background images work as expected. */\n",
       "        background-size: auto;\n",
       "    }\n",
       "    .progress-bar-interrupted, .progress-bar-interrupted::-webkit-progress-bar {\n",
       "        background: #F44336;\n",
       "    }\n",
       "</style>\n"
      ],
      "text/plain": [
       "<IPython.core.display.HTML object>"
      ]
     },
     "metadata": {},
     "output_type": "display_data"
    },
    {
     "data": {
      "text/html": [],
      "text/plain": [
       "<IPython.core.display.HTML object>"
      ]
     },
     "metadata": {},
     "output_type": "display_data"
    },
    {
     "data": {
      "text/html": [
       "\n",
       "<style>\n",
       "    /* Turns off some styling */\n",
       "    progress {\n",
       "        /* gets rid of default border in Firefox and Opera. */\n",
       "        border: none;\n",
       "        /* Needs to be in here for Safari polyfill so background images work as expected. */\n",
       "        background-size: auto;\n",
       "    }\n",
       "    .progress-bar-interrupted, .progress-bar-interrupted::-webkit-progress-bar {\n",
       "        background: #F44336;\n",
       "    }\n",
       "</style>\n"
      ],
      "text/plain": [
       "<IPython.core.display.HTML object>"
      ]
     },
     "metadata": {},
     "output_type": "display_data"
    },
    {
     "data": {
      "text/html": [
       "\n",
       "    <div>\n",
       "      <progress value='5' class='' max='45' style='width:300px; height:20px; vertical-align: middle;'></progress>\n",
       "      11.11% [5/45 11:28<1:31:47]\n",
       "    </div>\n",
       "    \n",
       "<table border=\"1\" class=\"dataframe\">\n",
       "  <thead>\n",
       "    <tr style=\"text-align: left;\">\n",
       "      <th>epoch</th>\n",
       "      <th>train_loss</th>\n",
       "      <th>valid_loss</th>\n",
       "      <th>accuracy</th>\n",
       "      <th>f1_score</th>\n",
       "      <th>time</th>\n",
       "    </tr>\n",
       "  </thead>\n",
       "  <tbody>\n",
       "    <tr>\n",
       "      <td>0</td>\n",
       "      <td>2.998399</td>\n",
       "      <td>2.662271</td>\n",
       "      <td>0.256029</td>\n",
       "      <td>0.256029</td>\n",
       "      <td>02:18</td>\n",
       "    </tr>\n",
       "    <tr>\n",
       "      <td>1</td>\n",
       "      <td>2.601975</td>\n",
       "      <td>3.131222</td>\n",
       "      <td>0.342444</td>\n",
       "      <td>0.342444</td>\n",
       "      <td>02:17</td>\n",
       "    </tr>\n",
       "    <tr>\n",
       "      <td>2</td>\n",
       "      <td>2.482480</td>\n",
       "      <td>2.686286</td>\n",
       "      <td>0.255225</td>\n",
       "      <td>0.255225</td>\n",
       "      <td>02:17</td>\n",
       "    </tr>\n",
       "    <tr>\n",
       "      <td>3</td>\n",
       "      <td>2.361136</td>\n",
       "      <td>2.279947</td>\n",
       "      <td>0.299839</td>\n",
       "      <td>0.299839</td>\n",
       "      <td>02:17</td>\n",
       "    </tr>\n",
       "    <tr>\n",
       "      <td>4</td>\n",
       "      <td>2.276199</td>\n",
       "      <td>2.523860</td>\n",
       "      <td>0.274518</td>\n",
       "      <td>0.274518</td>\n",
       "      <td>02:17</td>\n",
       "    </tr>\n",
       "  </tbody>\n",
       "</table><p>\n",
       "\n",
       "    <div>\n",
       "      <progress value='200' class='' max='272' style='width:300px; height:20px; vertical-align: middle;'></progress>\n",
       "      73.53% [200/272 01:29<00:32 2.2405]\n",
       "    </div>\n",
       "    "
      ],
      "text/plain": [
       "<IPython.core.display.HTML object>"
      ]
     },
     "metadata": {},
     "output_type": "display_data"
    },
    {
     "data": {
      "image/png": "[encoded data removed]",
      "text/plain": [
       "<Figure size 432x288 with 1 Axes>"
      ]
     },
     "metadata": {},
     "output_type": "display_data"
    }
   ],
   "source": [
    "preds_kfold_learns = [get_preds(split_1fold) for split_1fold in splits_kfold[:2]]"
   ]
  },
  {
   "cell_type": "code",
   "execution_count": 201,
   "id": "e5c65ca3",
   "metadata": {},
   "outputs": [
    {
     "data": {
      "text/plain": [
       "[[(#15921) [0,1,2,3,4,5,6,7,9,12...],\n",
       "  (#3981) [8,10,11,15,21,23,34,38,40,43...]],\n",
       " [(#15921) [0,2,3,4,7,8,9,10,11,12...],\n",
       "  (#3981) [1,5,6,17,19,28,30,32,35,36...]],\n",
       " [(#15922) [0,1,2,3,5,6,7,8,9,10...],\n",
       "  (#3980) [4,12,13,14,16,18,29,31,37,45...]],\n",
       " [(#15922) [1,4,5,6,7,8,10,11,12,13...],\n",
       "  (#3980) [0,2,3,9,20,22,24,25,39,44...]],\n",
       " [(#15922) [0,1,2,3,4,5,6,8,9,10...],\n",
       "  (#3980) [7,26,27,33,41,47,49,51,61,66...]]]"
      ]
     },
     "execution_count": 201,
     "metadata": {},
     "output_type": "execute_result"
    }
   ],
   "source": [
    "splits_kfold"
   ]
  },
  {
   "cell_type": "code",
   "execution_count": 198,
   "id": "a8514ae4",
   "metadata": {},
   "outputs": [
    {
     "data": {
      "text/plain": [
       "(#15922) [(PILImage mode=F size=469x128, TensorCategory(3)),(PILImage mode=F size=469x128, TensorCategory(16)),(PILImage mode=F size=469x128, TensorCategory(7)),(PILImage mode=F size=469x128, TensorCategory(16)),(PILImage mode=F size=469x128, TensorCategory(7)),(PILImage mode=F size=469x128, TensorCategory(14)),(PILImage mode=F size=469x128, TensorCategory(2)),(PILImage mode=F size=469x128, TensorCategory(14)),(PILImage mode=F size=469x128, TensorCategory(6)),(PILImage mode=F size=469x128, TensorCategory(16))...]"
      ]
     },
     "execution_count": 198,
     "metadata": {},
     "output_type": "execute_result"
    }
   ],
   "source": [
    "dls.train_ds"
   ]
  },
  {
   "cell_type": "code",
   "execution_count": 196,
   "id": "1f60d04b",
   "metadata": {},
   "outputs": [
    {
     "data": {
      "text/plain": [
       "15922"
      ]
     },
     "execution_count": 196,
     "metadata": {},
     "output_type": "execute_result"
    }
   ],
   "source": [
    "len(dls.get_idxs())"
   ]
  },
  {
   "cell_type": "code",
   "execution_count": 101,
   "id": "f18b5568",
   "metadata": {},
   "outputs": [
    {
     "data": {
      "text/plain": [
       "0.5668342"
      ]
     },
     "execution_count": 101,
     "metadata": {},
     "output_type": "execute_result"
    }
   ],
   "source": [
    "(0.562563 + 0.564070 + 0.574623 + 0.562312 + 0.570603)/5"
   ]
  },
  {
   "cell_type": "code",
   "execution_count": 28,
   "id": "90e357c7",
   "metadata": {},
   "outputs": [],
   "source": [
    "preds_kfold = [pred_learn[0] for pred_learn in preds_kfold_learns]\n",
    "learns = [pred_learn[1] for pred_learn in preds_kfold_learns]"
   ]
  },
  {
   "cell_type": "code",
   "execution_count": 32,
   "id": "4e52fe5f",
   "metadata": {},
   "outputs": [],
   "source": [
    "preds_kfold = [np.array(preds[0]) for preds in preds_kfold]"
   ]
  },
  {
   "cell_type": "code",
   "execution_count": 33,
   "id": "ec25b83e",
   "metadata": {},
   "outputs": [],
   "source": [
    "preds_list = [pred.argmax(axis=1) for pred in preds_kfold]"
   ]
  },
  {
   "cell_type": "code",
   "execution_count": 34,
   "id": "740cdf33",
   "metadata": {},
   "outputs": [],
   "source": [
    "preds_array = np.array(preds_list)"
   ]
  },
  {
   "cell_type": "code",
   "execution_count": 35,
   "id": "2c497ef0",
   "metadata": {},
   "outputs": [
    {
     "data": {
      "text/plain": [
       "array([[ 6,  8,  6, ..., 10,  6,  9],\n",
       "       [ 6, 14,  6, ..., 10,  6,  9]])"
      ]
     },
     "execution_count": 35,
     "metadata": {},
     "output_type": "execute_result"
    }
   ],
   "source": [
    "preds_array"
   ]
  },
  {
   "cell_type": "code",
   "execution_count": 36,
   "id": "6ed0e1ba",
   "metadata": {},
   "outputs": [],
   "source": [
    "values, counts = np.unique(preds_array,axis=0, return_counts=True)"
   ]
  },
  {
   "cell_type": "code",
   "execution_count": 37,
   "id": "824c1d68",
   "metadata": {},
   "outputs": [
    {
     "data": {
      "text/plain": [
       "6"
      ]
     },
     "execution_count": 37,
     "metadata": {},
     "output_type": "execute_result"
    }
   ],
   "source": [
    "Counter(preds_array[:,0]).most_common(1)[0][0]"
   ]
  },
  {
   "cell_type": "code",
   "execution_count": 38,
   "id": "d2e27441",
   "metadata": {},
   "outputs": [
    {
     "data": {
      "text/plain": [
       "(2, 5076)"
      ]
     },
     "execution_count": 38,
     "metadata": {},
     "output_type": "execute_result"
    }
   ],
   "source": [
    "preds_array.shape"
   ]
  },
  {
   "cell_type": "code",
   "execution_count": 39,
   "id": "db3f7f74",
   "metadata": {},
   "outputs": [],
   "source": [
    "final_votes = [Counter(preds_array[:,i]).most_common(1)[0][0] for i in range(preds_array.shape[1])]"
   ]
  },
  {
   "cell_type": "code",
   "execution_count": 26,
   "id": "fe480017",
   "metadata": {},
   "outputs": [],
   "source": [
    "final_preds = np.array(preds_kfold).mean(axis=0)"
   ]
  },
  {
   "cell_type": "code",
   "execution_count": 34,
   "id": "2ae80d1b",
   "metadata": {},
   "outputs": [
    {
     "data": {
      "text/html": [
       "<div>\n",
       "<style scoped>\n",
       "    .dataframe tbody tr th:only-of-type {\n",
       "        vertical-align: middle;\n",
       "    }\n",
       "\n",
       "    .dataframe tbody tr th {\n",
       "        vertical-align: top;\n",
       "    }\n",
       "\n",
       "    .dataframe thead th {\n",
       "        text-align: right;\n",
       "    }\n",
       "</style>\n",
       "<table border=\"1\" class=\"dataframe\">\n",
       "  <thead>\n",
       "    <tr style=\"text-align: right;\">\n",
       "      <th></th>\n",
       "      <th>song_id</th>\n",
       "      <th>genre_id</th>\n",
       "    </tr>\n",
       "  </thead>\n",
       "  <tbody>\n",
       "  </tbody>\n",
       "</table>\n",
       "</div>"
      ],
      "text/plain": [
       "Empty DataFrame\n",
       "Columns: [song_id, genre_id]\n",
       "Index: []"
      ]
     },
     "execution_count": 34,
     "metadata": {},
     "output_type": "execute_result"
    }
   ],
   "source": [
    "submission[submission['song_id']==\"024013\"]"
   ]
  },
  {
   "cell_type": "code",
   "execution_count": 45,
   "id": "8e8ddc75",
   "metadata": {},
   "outputs": [],
   "source": [
    "# preds_idx = final_preds.argmax(axis=1)\n",
    "genre2id = pd.read_csv('/home/ubuntu/.kaggle/kaggle-pog-series-s01e02/genres.csv')\n",
    "songid_preds = {int(file_path.name.split('_')[0]):genreid_from_genre(learns[0].dls.vocab[_id]) for file_path, _id in zip(test_items,final_votes)}\n",
    "submission['genre_id'] = submission['song_id'].map(songid_preds)\n",
    "submission['genre_id'].fillna(0, inplace=True)\n",
    "submission.loc[submission['song_id']==22612, 'genre_id'] = 1\n",
    "submission.loc[submission['song_id']==24013, 'genre_id'] = 0\n",
    "\n",
    "submission.genre_id = submission.genre_id.astype(int)\n",
    "submission.to_csv(f\"submission_final_{int(time.time())}.csv\", index=False)"
   ]
  },
  {
   "cell_type": "code",
   "execution_count": null,
   "id": "64ad546c",
   "metadata": {},
   "outputs": [],
   "source": []
  }
 ],
 "metadata": {
  "kernelspec": {
   "display_name": "Python 3 (ipykernel)",
   "language": "python",
   "name": "python3"
  },
  "language_info": {
   "codemirror_mode": {
    "name": "ipython",
    "version": 3
   },
   "file_extension": ".py",
   "mimetype": "text/x-python",
   "name": "python",
   "nbconvert_exporter": "python",
   "pygments_lexer": "ipython3",
   "version": "3.8.12"
  }
 },
 "nbformat": 4,
 "nbformat_minor": 5
}
