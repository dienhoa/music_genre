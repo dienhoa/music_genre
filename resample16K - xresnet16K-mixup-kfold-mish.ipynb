{
 "cells": [
  {
   "cell_type": "code",
   "execution_count": 1,
   "id": "b34fbcac",
   "metadata": {},
   "outputs": [],
   "source": [
    "from fastai.vision.all import *\n",
    "import torchaudio\n",
    "from sklearn.model_selection import StratifiedKFold\n",
    "import librosa\n",
    "from scipy import stats\n"
   ]
  },
  {
   "cell_type": "code",
   "execution_count": 2,
   "id": "b07cdd0c",
   "metadata": {},
   "outputs": [],
   "source": [
    "df_train = pd.read_csv('/home/ubuntu/.kaggle/kaggle-pog-series-s01e02/train.csv')\n",
    "df_test = pd.read_csv('/home/ubuntu/.kaggle/kaggle-pog-series-s01e02/test.csv')\n",
    "submission = pd.read_csv('/home/ubuntu/.kaggle/kaggle-pog-series-s01e02/sample_submission.csv')"
   ]
  },
  {
   "cell_type": "code",
   "execution_count": 3,
   "id": "963abb33",
   "metadata": {},
   "outputs": [],
   "source": [
    "train_path = Path('/home/ubuntu/.kaggle/resampled/resampled_train/')\n",
    "test_path = Path('/home/ubuntu/.kaggle/resampled/resampled_test/')"
   ]
  },
  {
   "cell_type": "code",
   "execution_count": 4,
   "id": "b6fb6a4f",
   "metadata": {},
   "outputs": [],
   "source": [
    "train_files = get_files(train_path, extensions='.wav')\n"
   ]
  },
  {
   "cell_type": "code",
   "execution_count": 5,
   "id": "cc722551",
   "metadata": {},
   "outputs": [
    {
     "data": {
      "text/plain": [
       "(#19909) [Path('/home/ubuntu/.kaggle/resampled/resampled_train/018663_16k.wav'),Path('/home/ubuntu/.kaggle/resampled/resampled_train/008647_16k.wav'),Path('/home/ubuntu/.kaggle/resampled/resampled_train/018904_16k.wav'),Path('/home/ubuntu/.kaggle/resampled/resampled_train/001706_16k.wav'),Path('/home/ubuntu/.kaggle/resampled/resampled_train/003820_16k.wav'),Path('/home/ubuntu/.kaggle/resampled/resampled_train/013023_16k.wav'),Path('/home/ubuntu/.kaggle/resampled/resampled_train/009569_16k.wav'),Path('/home/ubuntu/.kaggle/resampled/resampled_train/017429_16k.wav'),Path('/home/ubuntu/.kaggle/resampled/resampled_train/008264_16k.wav'),Path('/home/ubuntu/.kaggle/resampled/resampled_train/000141_16k.wav')...]"
      ]
     },
     "execution_count": 5,
     "metadata": {},
     "output_type": "execute_result"
    }
   ],
   "source": [
    "train_files"
   ]
  },
  {
   "cell_type": "code",
   "execution_count": 6,
   "id": "566ebff4",
   "metadata": {},
   "outputs": [],
   "source": [
    "def get_y(filename):\n",
    "    resample_name = filename.name.split('_')[0] + '.ogg'\n",
    "    return df_train[df_train['filename']==resample_name]['genre'].values[0]"
   ]
  },
  {
   "cell_type": "code",
   "execution_count": 7,
   "id": "8c2b5f68",
   "metadata": {},
   "outputs": [
    {
     "data": {
      "text/plain": [
       "'Chiptune / Glitch'"
      ]
     },
     "execution_count": 7,
     "metadata": {},
     "output_type": "execute_result"
    }
   ],
   "source": [
    "get_y(train_files[0])\n"
   ]
  },
  {
   "cell_type": "code",
   "execution_count": 8,
   "id": "d0bb6cd2",
   "metadata": {},
   "outputs": [],
   "source": [
    "# Excluded unusual music thanks to this thread: https://www.kaggle.com/c/kaggle-pog-series-s01e02/discussion/312842\n",
    "def get_items(path): \n",
    "    excluded_files = [\"010449_16k.wav\" , \"005589_16k.wav\" , \"004921_16k.wav\", \"019511_16k.wav\" , \"013375_16k.wav\" , \"024247_16k.wav\", \"024156_16k.wav\"]\n",
    "    items = get_files(path, extensions='.wav')\n",
    "    items = [item for item in items if item.name not in excluded_files]\n",
    "    \n",
    "    ## For fast iteration\n",
    "#     items = [item for item in items if get_y(item) in ['Punk', 'Rock']]\n",
    "    random.shuffle(items)\n",
    "#     items.shuffle()\n",
    "    return L(items)"
   ]
  },
  {
   "cell_type": "code",
   "execution_count": 9,
   "id": "5889a7b6",
   "metadata": {},
   "outputs": [],
   "source": [
    "N_FFT = 2048\n",
    "HOP_LEN = 512"
   ]
  },
  {
   "cell_type": "code",
   "execution_count": 10,
   "id": "d49ef53c",
   "metadata": {},
   "outputs": [],
   "source": [
    "filename = train_files[0]\n"
   ]
  },
  {
   "cell_type": "code",
   "execution_count": 11,
   "id": "7c6e664c",
   "metadata": {},
   "outputs": [
    {
     "data": {
      "text/plain": [
       "'018663.ogg'"
      ]
     },
     "execution_count": 11,
     "metadata": {},
     "output_type": "execute_result"
    }
   ],
   "source": [
    "filename.name.split('_')[0] + '.ogg'\n"
   ]
  },
  {
   "cell_type": "code",
   "execution_count": 12,
   "id": "1444cdc0",
   "metadata": {},
   "outputs": [],
   "source": [
    "def create_spectrogram(filename):\n",
    "    audio, sr = torchaudio.load(filename)\n",
    "    \n",
    "    audio = audio.squeeze()\n",
    "    audio, index = librosa.effects.trim(audio, frame_length=1024, hop_length=256)  \n",
    "    audio = audio.unsqueeze(0)\n",
    "        \n",
    "    specgram = torchaudio.transforms.MelSpectrogram(sample_rate=sr, \n",
    "                                                    n_fft=N_FFT, \n",
    "                                                    win_length=N_FFT, \n",
    "                                                    hop_length=HOP_LEN,\n",
    "                                                    center=True,\n",
    "                                                    pad_mode=\"reflect\",\n",
    "                                                    power=2.0,\n",
    "                                                    norm='slaney',\n",
    "                                                    onesided=True,\n",
    "                                                    n_mels=256,\n",
    "                                                    mel_scale=\"htk\"\n",
    "                                                   )(audio)[0]\n",
    "    specgram = torchaudio.transforms.AmplitudeToDB()(specgram)\n",
    "    specgram = specgram - specgram.min()\n",
    "    specgram = specgram/specgram.max()*255\n",
    "    \n",
    "    \n",
    "    return specgram"
   ]
  },
  {
   "cell_type": "code",
   "execution_count": 13,
   "id": "f58465de",
   "metadata": {},
   "outputs": [],
   "source": [
    "filename = train_files[0]\n",
    "spec_default = create_spectrogram(filename)"
   ]
  },
  {
   "cell_type": "code",
   "execution_count": 14,
   "id": "58e14d87",
   "metadata": {},
   "outputs": [
    {
     "data": {
      "text/plain": [
       "torch.Size([256, 937])"
      ]
     },
     "execution_count": 14,
     "metadata": {},
     "output_type": "execute_result"
    }
   ],
   "source": [
    "spec_default.shape\n"
   ]
  },
  {
   "cell_type": "code",
   "execution_count": 15,
   "id": "fb0d48e9",
   "metadata": {},
   "outputs": [],
   "source": [
    "items = get_items(train_path)\n",
    "labels = [get_y(item) for item in items]\n",
    "count = Counter(labels)"
   ]
  },
  {
   "cell_type": "code",
   "execution_count": 16,
   "id": "568ce4fe",
   "metadata": {},
   "outputs": [],
   "source": [
    "test_items = get_items(test_path)"
   ]
  },
  {
   "cell_type": "code",
   "execution_count": 17,
   "id": "ee81b6b0",
   "metadata": {},
   "outputs": [],
   "source": [
    "splitter = TrainTestSplitter(test_size=0.2, random_state=42, stratify=labels)"
   ]
  },
  {
   "cell_type": "code",
   "execution_count": 18,
   "id": "627abd89",
   "metadata": {},
   "outputs": [],
   "source": [
    "kf = StratifiedKFold(n_splits=5, shuffle=True)"
   ]
  },
  {
   "cell_type": "code",
   "execution_count": 19,
   "id": "8cf07246",
   "metadata": {},
   "outputs": [],
   "source": [
    "splits_kfold=[]\n",
    "for _, val_idx in kf.split(np.array(items), labels):\n",
    "    splits = IndexSplitter(val_idx)\n",
    "    split = splits(items)\n",
    "    split_list = [split[0], split[1]]\n",
    "    splits_kfold.append(split_list)"
   ]
  },
  {
   "cell_type": "code",
   "execution_count": 20,
   "id": "33ef646a",
   "metadata": {},
   "outputs": [
    {
     "data": {
      "text/plain": [
       "[[(#15921) [0,1,2,3,4,5,6,8,10,11...],\n",
       "  (#3981) [7,9,16,19,20,24,33,36,37,38...]],\n",
       " [(#15921) [0,2,3,4,6,7,8,9,10,11...],\n",
       "  (#3981) [1,5,27,43,62,65,67,71,77,78...]],\n",
       " [(#15922) [0,1,3,4,5,6,7,8,9,10...],\n",
       "  (#3980) [2,13,30,32,41,45,50,53,57,64...]],\n",
       " [(#15922) [0,1,2,4,5,7,9,12,13,15...],\n",
       "  (#3980) [3,6,8,10,11,14,18,21,25,26...]],\n",
       " [(#15922) [1,2,3,5,6,7,8,9,10,11...],\n",
       "  (#3980) [0,4,12,15,17,22,23,28,29,35...]]]"
      ]
     },
     "execution_count": 20,
     "metadata": {},
     "output_type": "execute_result"
    }
   ],
   "source": [
    "splits_kfold"
   ]
  },
  {
   "cell_type": "code",
   "execution_count": 21,
   "id": "8958945c",
   "metadata": {},
   "outputs": [],
   "source": [
    "def alter_learner(learn, channels=1):\n",
    "    learn.model[0][0][0].in_channels=channels\n",
    "    learn.model[0][0][0].weight = torch.nn.parameter.Parameter(learn.model[0][0][0].weight[:,1,:,:].unsqueeze(1))"
   ]
  },
  {
   "cell_type": "code",
   "execution_count": 22,
   "id": "b8aaea99",
   "metadata": {},
   "outputs": [],
   "source": [
    "def genreid_from_genre(genre):\n",
    "    return int(genre2id[genre2id['genre'] == genre]['genre_id'].values[0])"
   ]
  },
  {
   "cell_type": "code",
   "execution_count": 23,
   "id": "71a27e72",
   "metadata": {},
   "outputs": [],
   "source": [
    "# wgts = [draw_pct[dsets.vocab[label]] for img, label in dsets.train]"
   ]
  },
  {
   "cell_type": "code",
   "execution_count": 24,
   "id": "1454116c",
   "metadata": {},
   "outputs": [],
   "source": [
    "draw_pct = {k:1/v for (k, v) in count.items()}"
   ]
  },
  {
   "cell_type": "code",
   "execution_count": 25,
   "id": "62ac181d",
   "metadata": {},
   "outputs": [
    {
     "data": {
      "text/plain": [
       "{'Rock': 0.00032310177705977385,\n",
       " 'Electronic': 0.00032562683165092806,\n",
       " 'International': 0.0012285012285012285,\n",
       " 'Classical': 0.00202020202020202,\n",
       " 'Experimental': 0.0005558643690939411,\n",
       " 'Instrumental': 0.0009587727708533077,\n",
       " 'Hip-Hop': 0.0005698005698005698,\n",
       " 'Pop': 0.0010582010582010583,\n",
       " 'Chiptune / Glitch': 0.000847457627118644,\n",
       " 'Folk': 0.0008244023083264633,\n",
       " 'Ambient Electronic': 0.001256281407035176,\n",
       " 'Old-Time / Historic': 0.0024509803921568627,\n",
       " 'Punk': 0.0003874467260751647,\n",
       " 'Country': 0.007042253521126761,\n",
       " 'Jazz': 0.0032679738562091504,\n",
       " 'Blues': 0.017241379310344827,\n",
       " 'Soul-RnB': 0.010638297872340425,\n",
       " 'Spoken': 0.010638297872340425,\n",
       " 'Easy Listening': 0.07692307692307693}"
      ]
     },
     "execution_count": 25,
     "metadata": {},
     "output_type": "execute_result"
    }
   ],
   "source": [
    "draw_pct"
   ]
  },
  {
   "cell_type": "code",
   "execution_count": 26,
   "id": "34e02417",
   "metadata": {},
   "outputs": [],
   "source": [
    "splits_1fold = splits_kfold[0]"
   ]
  },
  {
   "cell_type": "code",
   "execution_count": 27,
   "id": "c2780b0c",
   "metadata": {},
   "outputs": [
    {
     "data": {
      "text/plain": [
       "[(#15921) [0,1,2,3,4,5,6,8,10,11...], (#3981) [7,9,16,19,20,24,33,36,37,38...]]"
      ]
     },
     "execution_count": 27,
     "metadata": {},
     "output_type": "execute_result"
    }
   ],
   "source": [
    "splits_1fold"
   ]
  },
  {
   "cell_type": "markdown",
   "id": "f594e433",
   "metadata": {},
   "source": [
    "### Test Augmentation"
   ]
  },
  {
   "cell_type": "code",
   "execution_count": 28,
   "id": "926d1f8f",
   "metadata": {},
   "outputs": [],
   "source": [
    "# path = untar_data(URLs.PETS)\n",
    "\n",
    "# test_imgs = get_image_files(path)\n",
    "\n",
    "# TEST_IMAGE = test_imgs[4]\n",
    "\n",
    "# img = PILImage(PILImage.create(TEST_IMAGE))\n",
    "\n",
    "\n",
    "class ReflectionCrop(RandomCrop):\n",
    "    def encodes(self, x:(Image.Image,TensorBBox,TensorPoint)):\n",
    "        return x.crop_pad(self.size, self.tl, orig_sz=self.orig_sz, pad_mode=PadMode.Reflection)\n",
    "\n",
    "# rsz = ReflectionCrop((375, 100))\n",
    "\n",
    "# img2 = rsz(img, split_idx=0)\n",
    "\n",
    "# img.shape\n",
    "\n",
    "# img"
   ]
  },
  {
   "cell_type": "code",
   "execution_count": 29,
   "id": "d8ab39f3",
   "metadata": {},
   "outputs": [
    {
     "data": {
      "text/plain": [
       "(#19902) [Path('/home/ubuntu/.kaggle/resampled/resampled_train/019022_16k.wav'),Path('/home/ubuntu/.kaggle/resampled/resampled_train/023359_16k.wav'),Path('/home/ubuntu/.kaggle/resampled/resampled_train/006384_16k.wav'),Path('/home/ubuntu/.kaggle/resampled/resampled_train/003461_16k.wav'),Path('/home/ubuntu/.kaggle/resampled/resampled_train/016888_16k.wav'),Path('/home/ubuntu/.kaggle/resampled/resampled_train/002242_16k.wav'),Path('/home/ubuntu/.kaggle/resampled/resampled_train/010971_16k.wav'),Path('/home/ubuntu/.kaggle/resampled/resampled_train/023312_16k.wav'),Path('/home/ubuntu/.kaggle/resampled/resampled_train/019720_16k.wav'),Path('/home/ubuntu/.kaggle/resampled/resampled_train/005166_16k.wav')...]"
      ]
     },
     "execution_count": 29,
     "metadata": {},
     "output_type": "execute_result"
    }
   ],
   "source": [
    "items"
   ]
  },
  {
   "cell_type": "code",
   "execution_count": 30,
   "id": "799fc3fb",
   "metadata": {},
   "outputs": [
    {
     "data": {
      "text/plain": [
       "[(#15921) [0,1,2,3,4,5,6,8,10,11...], (#3981) [7,9,16,19,20,24,33,36,37,38...]]"
      ]
     },
     "execution_count": 30,
     "metadata": {},
     "output_type": "execute_result"
    }
   ],
   "source": [
    "splits_1fold"
   ]
  },
  {
   "cell_type": "code",
   "execution_count": 31,
   "id": "ae0d8a3d",
   "metadata": {},
   "outputs": [],
   "source": [
    "class CustomDataBlock(DataBlock):\n",
    "    def datasets(self:DataBlock, source, verbose=False, splits=None):\n",
    "        self.source = source                     ; pv(f\"Collecting items from {source}\", verbose)\n",
    "        items = (self.get_items or noop)(source) ; pv(f\"Found {len(items)} items\", verbose)\n",
    "        pv(f\"{len(splits)} datasets of sizes {','.join([str(len(s)) for s in splits])}\", verbose)\n",
    "        return Datasets(items, tfms=self._combine_type_tfms(), splits=splits, dl_type=self.dl_type, n_inp=self.n_inp, verbose=verbose)\n",
    "    def dataloaders(self, source, path='.', verbose=False, splits=None, **kwargs):\n",
    "        dsets = self.datasets(source, verbose=verbose, splits=splits)\n",
    "        kwargs = {**self.dls_kwargs, **kwargs, 'verbose': verbose}\n",
    "        return dsets.dataloaders(path=path, after_item=self.item_tfms, after_batch=self.batch_tfms, **kwargs)"
   ]
  },
  {
   "cell_type": "code",
   "execution_count": 32,
   "id": "0f5485db",
   "metadata": {},
   "outputs": [],
   "source": [
    "db = CustomDataBlock(\n",
    "    blocks=(ImageBlock, CategoryBlock),\n",
    "    get_x=create_spectrogram,\n",
    "    get_y=get_y,\n",
    "    item_tfms=[ReflectionCrop(256)],\n",
    "    batch_tfms=aug_transforms(max_rotate=0, max_warp=0,size=256))\n",
    "\n",
    "#     wgts = [draw_pct[label] for label in L(labels)[splits_1fold[0]]]\n",
    "dls = db.dataloaders(items, splits=splits_1fold)\n",
    "\n",
    "mixup = MixUp(0.4)\n",
    "model = partial(xse_resnext50, pool=MaxPool, act_cls=Mish, sa=1)\n",
    "\n",
    "learn = cnn_learner(dls, \n",
    "                    model, \n",
    "                    metrics=[accuracy, F1Score(average='micro')], \n",
    "                    pretrained=False, \n",
    "                    loss_func=LabelSmoothingCrossEntropy(), \n",
    "                    opt_func=ranger, \n",
    "                   )\n",
    "\n",
    "learn.to_fp16()\n",
    "nchannels = dls.one_batch()[0].shape[1]\n",
    "alter_learner(learn, nchannels)"
   ]
  },
  {
   "cell_type": "code",
   "execution_count": 33,
   "id": "eeb88205",
   "metadata": {},
   "outputs": [
    {
     "data": {
      "text/html": [
       "\n",
       "<style>\n",
       "    /* Turns off some styling */\n",
       "    progress {\n",
       "        /* gets rid of default border in Firefox and Opera. */\n",
       "        border: none;\n",
       "        /* Needs to be in here for Safari polyfill so background images work as expected. */\n",
       "        background-size: auto;\n",
       "    }\n",
       "    .progress-bar-interrupted, .progress-bar-interrupted::-webkit-progress-bar {\n",
       "        background: #F44336;\n",
       "    }\n",
       "</style>\n"
      ],
      "text/plain": [
       "<IPython.core.display.HTML object>"
      ]
     },
     "metadata": {},
     "output_type": "display_data"
    },
    {
     "data": {
      "text/html": [
       "<table border=\"1\" class=\"dataframe\">\n",
       "  <thead>\n",
       "    <tr style=\"text-align: left;\">\n",
       "      <th>epoch</th>\n",
       "      <th>train_loss</th>\n",
       "      <th>valid_loss</th>\n",
       "      <th>accuracy</th>\n",
       "      <th>f1_score</th>\n",
       "      <th>time</th>\n",
       "    </tr>\n",
       "  </thead>\n",
       "  <tbody>\n",
       "    <tr>\n",
       "      <td>0</td>\n",
       "      <td>3.047786</td>\n",
       "      <td>2.293808</td>\n",
       "      <td>0.363225</td>\n",
       "      <td>0.363225</td>\n",
       "      <td>04:57</td>\n",
       "    </tr>\n",
       "  </tbody>\n",
       "</table>"
      ],
      "text/plain": [
       "<IPython.core.display.HTML object>"
      ]
     },
     "metadata": {},
     "output_type": "display_data"
    }
   ],
   "source": [
    "learn.fit_one_cycle(1)"
   ]
  },
  {
   "cell_type": "code",
   "execution_count": 33,
   "id": "79468c8b",
   "metadata": {},
   "outputs": [],
   "source": [
    "# learn.dls.show_batch()"
   ]
  },
  {
   "cell_type": "code",
   "execution_count": 34,
   "id": "05ff73f7",
   "metadata": {},
   "outputs": [],
   "source": [
    "def get_preds(splits_1fold, nb_epoch=40):\n",
    "    \n",
    "    db = CustomDataBlock(\n",
    "        blocks=(ImageBlock, CategoryBlock),\n",
    "        get_x=create_spectrogram,\n",
    "        get_y=get_y,\n",
    "        item_tfms=[ReflectionCrop(128)],\n",
    "        batch_tfms=aug_transforms(max_rotate=0, max_warp=0,size=128))\n",
    "    \n",
    "    dls = db.dataloaders(items, splits=splits_1fold)\n",
    "    \n",
    "    mixup = MixUp(0.4)\n",
    "    model = partial(xse_resnext18, pool=MaxPool, act_cls=Mish, sa=1)\n",
    "    \n",
    "    learn = cnn_learner(dls, \n",
    "                        model, \n",
    "                        metrics=[accuracy, F1Score(average='micro')], \n",
    "                        pretrained=False, \n",
    "                        loss_func=LabelSmoothingCrossEntropy(), \n",
    "                        opt_func=ranger, \n",
    "                       )\n",
    "    \n",
    "#     learn.to_fp16()\n",
    "    nchannels = dls.one_batch()[0].shape[1]\n",
    "    alter_learner(learn, nchannels)\n",
    "    \n",
    "    learn.fit_flat_cos(nb_epoch, 0.003, cbs=[mixup, CSVLogger(fname=f'history_{int(time.time())}.csv'), ShowGraphCallback()])\n",
    "    \n",
    "    test_dl = dls.test_dl(test_items)\n",
    "    preds = learn.get_preds(dl=test_dl)\n",
    "    return preds, learn\n"
   ]
  },
  {
   "cell_type": "code",
   "execution_count": 35,
   "id": "d4a5fd92",
   "metadata": {},
   "outputs": [
    {
     "data": {
      "text/html": [
       "\n",
       "<style>\n",
       "    /* Turns off some styling */\n",
       "    progress {\n",
       "        /* gets rid of default border in Firefox and Opera. */\n",
       "        border: none;\n",
       "        /* Needs to be in here for Safari polyfill so background images work as expected. */\n",
       "        background-size: auto;\n",
       "    }\n",
       "    .progress-bar-interrupted, .progress-bar-interrupted::-webkit-progress-bar {\n",
       "        background: #F44336;\n",
       "    }\n",
       "</style>\n"
      ],
      "text/plain": [
       "<IPython.core.display.HTML object>"
      ]
     },
     "metadata": {},
     "output_type": "display_data"
    },
    {
     "data": {
      "text/html": [
       "<table border=\"1\" class=\"dataframe\">\n",
       "  <thead>\n",
       "    <tr style=\"text-align: left;\">\n",
       "      <th>epoch</th>\n",
       "      <th>train_loss</th>\n",
       "      <th>valid_loss</th>\n",
       "      <th>accuracy</th>\n",
       "      <th>f1_score</th>\n",
       "      <th>time</th>\n",
       "    </tr>\n",
       "  </thead>\n",
       "  <tbody>\n",
       "    <tr>\n",
       "      <td>0</td>\n",
       "      <td>2.855447</td>\n",
       "      <td>2.367492</td>\n",
       "      <td>0.315247</td>\n",
       "      <td>0.315247</td>\n",
       "      <td>03:53</td>\n",
       "    </tr>\n",
       "    <tr>\n",
       "      <td>1</td>\n",
       "      <td>2.450914</td>\n",
       "      <td>2.075924</td>\n",
       "      <td>0.400653</td>\n",
       "      <td>0.400653</td>\n",
       "      <td>03:47</td>\n",
       "    </tr>\n",
       "    <tr>\n",
       "      <td>2</td>\n",
       "      <td>2.309424</td>\n",
       "      <td>2.008189</td>\n",
       "      <td>0.434815</td>\n",
       "      <td>0.434815</td>\n",
       "      <td>03:41</td>\n",
       "    </tr>\n",
       "    <tr>\n",
       "      <td>3</td>\n",
       "      <td>2.214133</td>\n",
       "      <td>2.020346</td>\n",
       "      <td>0.416227</td>\n",
       "      <td>0.416227</td>\n",
       "      <td>03:38</td>\n",
       "    </tr>\n",
       "    <tr>\n",
       "      <td>4</td>\n",
       "      <td>2.176678</td>\n",
       "      <td>2.022662</td>\n",
       "      <td>0.408440</td>\n",
       "      <td>0.408440</td>\n",
       "      <td>03:40</td>\n",
       "    </tr>\n",
       "    <tr>\n",
       "      <td>5</td>\n",
       "      <td>2.144850</td>\n",
       "      <td>1.955841</td>\n",
       "      <td>0.438583</td>\n",
       "      <td>0.438583</td>\n",
       "      <td>03:38</td>\n",
       "    </tr>\n",
       "    <tr>\n",
       "      <td>6</td>\n",
       "      <td>2.123924</td>\n",
       "      <td>1.898856</td>\n",
       "      <td>0.474253</td>\n",
       "      <td>0.474253</td>\n",
       "      <td>03:40</td>\n",
       "    </tr>\n",
       "    <tr>\n",
       "      <td>7</td>\n",
       "      <td>2.122875</td>\n",
       "      <td>1.932537</td>\n",
       "      <td>0.448631</td>\n",
       "      <td>0.448631</td>\n",
       "      <td>03:38</td>\n",
       "    </tr>\n",
       "    <tr>\n",
       "      <td>8</td>\n",
       "      <td>2.085421</td>\n",
       "      <td>1.863611</td>\n",
       "      <td>0.488068</td>\n",
       "      <td>0.488068</td>\n",
       "      <td>03:37</td>\n",
       "    </tr>\n",
       "    <tr>\n",
       "      <td>9</td>\n",
       "      <td>2.083123</td>\n",
       "      <td>1.907496</td>\n",
       "      <td>0.453906</td>\n",
       "      <td>0.453906</td>\n",
       "      <td>03:40</td>\n",
       "    </tr>\n",
       "    <tr>\n",
       "      <td>10</td>\n",
       "      <td>2.067319</td>\n",
       "      <td>1.841354</td>\n",
       "      <td>0.497865</td>\n",
       "      <td>0.497865</td>\n",
       "      <td>03:36</td>\n",
       "    </tr>\n",
       "    <tr>\n",
       "      <td>11</td>\n",
       "      <td>2.052647</td>\n",
       "      <td>1.836082</td>\n",
       "      <td>0.492087</td>\n",
       "      <td>0.492087</td>\n",
       "      <td>03:40</td>\n",
       "    </tr>\n",
       "    <tr>\n",
       "      <td>12</td>\n",
       "      <td>2.052501</td>\n",
       "      <td>1.849128</td>\n",
       "      <td>0.479528</td>\n",
       "      <td>0.479528</td>\n",
       "      <td>03:43</td>\n",
       "    </tr>\n",
       "    <tr>\n",
       "      <td>13</td>\n",
       "      <td>2.019941</td>\n",
       "      <td>1.830769</td>\n",
       "      <td>0.494599</td>\n",
       "      <td>0.494599</td>\n",
       "      <td>03:42</td>\n",
       "    </tr>\n",
       "    <tr>\n",
       "      <td>14</td>\n",
       "      <td>2.017693</td>\n",
       "      <td>1.821979</td>\n",
       "      <td>0.505149</td>\n",
       "      <td>0.505149</td>\n",
       "      <td>03:40</td>\n",
       "    </tr>\n",
       "    <tr>\n",
       "      <td>15</td>\n",
       "      <td>2.012931</td>\n",
       "      <td>1.804062</td>\n",
       "      <td>0.503893</td>\n",
       "      <td>0.503893</td>\n",
       "      <td>03:41</td>\n",
       "    </tr>\n",
       "    <tr>\n",
       "      <td>16</td>\n",
       "      <td>1.996663</td>\n",
       "      <td>1.817745</td>\n",
       "      <td>0.503893</td>\n",
       "      <td>0.503893</td>\n",
       "      <td>03:43</td>\n",
       "    </tr>\n",
       "    <tr>\n",
       "      <td>17</td>\n",
       "      <td>2.000592</td>\n",
       "      <td>1.796306</td>\n",
       "      <td>0.505652</td>\n",
       "      <td>0.505652</td>\n",
       "      <td>03:42</td>\n",
       "    </tr>\n",
       "    <tr>\n",
       "      <td>18</td>\n",
       "      <td>1.998363</td>\n",
       "      <td>1.781525</td>\n",
       "      <td>0.515951</td>\n",
       "      <td>0.515951</td>\n",
       "      <td>03:38</td>\n",
       "    </tr>\n",
       "    <tr>\n",
       "      <td>19</td>\n",
       "      <td>1.992580</td>\n",
       "      <td>1.827679</td>\n",
       "      <td>0.490078</td>\n",
       "      <td>0.490078</td>\n",
       "      <td>03:46</td>\n",
       "    </tr>\n",
       "    <tr>\n",
       "      <td>20</td>\n",
       "      <td>1.964668</td>\n",
       "      <td>1.774572</td>\n",
       "      <td>0.514192</td>\n",
       "      <td>0.514192</td>\n",
       "      <td>03:50</td>\n",
       "    </tr>\n",
       "    <tr>\n",
       "      <td>21</td>\n",
       "      <td>1.984892</td>\n",
       "      <td>1.755147</td>\n",
       "      <td>0.523487</td>\n",
       "      <td>0.523487</td>\n",
       "      <td>03:40</td>\n",
       "    </tr>\n",
       "    <tr>\n",
       "      <td>22</td>\n",
       "      <td>1.953831</td>\n",
       "      <td>1.764527</td>\n",
       "      <td>0.519216</td>\n",
       "      <td>0.519216</td>\n",
       "      <td>03:44</td>\n",
       "    </tr>\n",
       "    <tr>\n",
       "      <td>23</td>\n",
       "      <td>1.954274</td>\n",
       "      <td>1.749355</td>\n",
       "      <td>0.534288</td>\n",
       "      <td>0.534288</td>\n",
       "      <td>03:41</td>\n",
       "    </tr>\n",
       "    <tr>\n",
       "      <td>24</td>\n",
       "      <td>1.949645</td>\n",
       "      <td>1.769403</td>\n",
       "      <td>0.513941</td>\n",
       "      <td>0.513941</td>\n",
       "      <td>03:37</td>\n",
       "    </tr>\n",
       "    <tr>\n",
       "      <td>25</td>\n",
       "      <td>1.950027</td>\n",
       "      <td>1.801405</td>\n",
       "      <td>0.509420</td>\n",
       "      <td>0.509420</td>\n",
       "      <td>03:38</td>\n",
       "    </tr>\n",
       "    <tr>\n",
       "      <td>26</td>\n",
       "      <td>1.920376</td>\n",
       "      <td>1.750805</td>\n",
       "      <td>0.528510</td>\n",
       "      <td>0.528510</td>\n",
       "      <td>03:39</td>\n",
       "    </tr>\n",
       "    <tr>\n",
       "      <td>27</td>\n",
       "      <td>1.912757</td>\n",
       "      <td>1.790661</td>\n",
       "      <td>0.515951</td>\n",
       "      <td>0.515951</td>\n",
       "      <td>03:42</td>\n",
       "    </tr>\n",
       "    <tr>\n",
       "      <td>28</td>\n",
       "      <td>1.901321</td>\n",
       "      <td>1.790239</td>\n",
       "      <td>0.508164</td>\n",
       "      <td>0.508164</td>\n",
       "      <td>03:41</td>\n",
       "    </tr>\n",
       "    <tr>\n",
       "      <td>29</td>\n",
       "      <td>1.914007</td>\n",
       "      <td>1.750071</td>\n",
       "      <td>0.531022</td>\n",
       "      <td>0.531022</td>\n",
       "      <td>03:40</td>\n",
       "    </tr>\n",
       "    <tr>\n",
       "      <td>30</td>\n",
       "      <td>1.924362</td>\n",
       "      <td>1.756118</td>\n",
       "      <td>0.523487</td>\n",
       "      <td>0.523487</td>\n",
       "      <td>03:37</td>\n",
       "    </tr>\n",
       "    <tr>\n",
       "      <td>31</td>\n",
       "      <td>1.891616</td>\n",
       "      <td>1.751351</td>\n",
       "      <td>0.526752</td>\n",
       "      <td>0.526752</td>\n",
       "      <td>03:38</td>\n",
       "    </tr>\n",
       "    <tr>\n",
       "      <td>32</td>\n",
       "      <td>1.883429</td>\n",
       "      <td>1.736262</td>\n",
       "      <td>0.536046</td>\n",
       "      <td>0.536046</td>\n",
       "      <td>03:46</td>\n",
       "    </tr>\n",
       "    <tr>\n",
       "      <td>33</td>\n",
       "      <td>1.865629</td>\n",
       "      <td>1.734068</td>\n",
       "      <td>0.530771</td>\n",
       "      <td>0.530771</td>\n",
       "      <td>03:38</td>\n",
       "    </tr>\n",
       "    <tr>\n",
       "      <td>34</td>\n",
       "      <td>1.836460</td>\n",
       "      <td>1.730719</td>\n",
       "      <td>0.546345</td>\n",
       "      <td>0.546345</td>\n",
       "      <td>03:41</td>\n",
       "    </tr>\n",
       "    <tr>\n",
       "      <td>35</td>\n",
       "      <td>1.811898</td>\n",
       "      <td>1.706582</td>\n",
       "      <td>0.549862</td>\n",
       "      <td>0.549862</td>\n",
       "      <td>03:41</td>\n",
       "    </tr>\n",
       "    <tr>\n",
       "      <td>36</td>\n",
       "      <td>1.808813</td>\n",
       "      <td>1.699164</td>\n",
       "      <td>0.557649</td>\n",
       "      <td>0.557649</td>\n",
       "      <td>03:39</td>\n",
       "    </tr>\n",
       "    <tr>\n",
       "      <td>37</td>\n",
       "      <td>1.795175</td>\n",
       "      <td>1.701026</td>\n",
       "      <td>0.562422</td>\n",
       "      <td>0.562422</td>\n",
       "      <td>03:39</td>\n",
       "    </tr>\n",
       "    <tr>\n",
       "      <td>38</td>\n",
       "      <td>1.789568</td>\n",
       "      <td>1.697526</td>\n",
       "      <td>0.561668</td>\n",
       "      <td>0.561668</td>\n",
       "      <td>03:41</td>\n",
       "    </tr>\n",
       "    <tr>\n",
       "      <td>39</td>\n",
       "      <td>1.758637</td>\n",
       "      <td>1.698600</td>\n",
       "      <td>0.562422</td>\n",
       "      <td>0.562422</td>\n",
       "      <td>03:39</td>\n",
       "    </tr>\n",
       "  </tbody>\n",
       "</table>"
      ],
      "text/plain": [
       "<IPython.core.display.HTML object>"
      ]
     },
     "metadata": {},
     "output_type": "display_data"
    },
    {
     "data": {
      "image/png": "[encoded data removed]",
      "text/plain": [
       "<Figure size 432x288 with 1 Axes>"
      ]
     },
     "metadata": {},
     "output_type": "display_data"
    },
    {
     "data": {
      "text/html": [
       "\n",
       "<style>\n",
       "    /* Turns off some styling */\n",
       "    progress {\n",
       "        /* gets rid of default border in Firefox and Opera. */\n",
       "        border: none;\n",
       "        /* Needs to be in here for Safari polyfill so background images work as expected. */\n",
       "        background-size: auto;\n",
       "    }\n",
       "    .progress-bar-interrupted, .progress-bar-interrupted::-webkit-progress-bar {\n",
       "        background: #F44336;\n",
       "    }\n",
       "</style>\n"
      ],
      "text/plain": [
       "<IPython.core.display.HTML object>"
      ]
     },
     "metadata": {},
     "output_type": "display_data"
    },
    {
     "data": {
      "text/html": [],
      "text/plain": [
       "<IPython.core.display.HTML object>"
      ]
     },
     "metadata": {},
     "output_type": "display_data"
    },
    {
     "data": {
      "text/html": [
       "\n",
       "<style>\n",
       "    /* Turns off some styling */\n",
       "    progress {\n",
       "        /* gets rid of default border in Firefox and Opera. */\n",
       "        border: none;\n",
       "        /* Needs to be in here for Safari polyfill so background images work as expected. */\n",
       "        background-size: auto;\n",
       "    }\n",
       "    .progress-bar-interrupted, .progress-bar-interrupted::-webkit-progress-bar {\n",
       "        background: #F44336;\n",
       "    }\n",
       "</style>\n"
      ],
      "text/plain": [
       "<IPython.core.display.HTML object>"
      ]
     },
     "metadata": {},
     "output_type": "display_data"
    },
    {
     "data": {
      "text/html": [
       "<table border=\"1\" class=\"dataframe\">\n",
       "  <thead>\n",
       "    <tr style=\"text-align: left;\">\n",
       "      <th>epoch</th>\n",
       "      <th>train_loss</th>\n",
       "      <th>valid_loss</th>\n",
       "      <th>accuracy</th>\n",
       "      <th>f1_score</th>\n",
       "      <th>time</th>\n",
       "    </tr>\n",
       "  </thead>\n",
       "  <tbody>\n",
       "    <tr>\n",
       "      <td>0</td>\n",
       "      <td>2.896850</td>\n",
       "      <td>2.186394</td>\n",
       "      <td>0.362723</td>\n",
       "      <td>0.362723</td>\n",
       "      <td>03:46</td>\n",
       "    </tr>\n",
       "    <tr>\n",
       "      <td>1</td>\n",
       "      <td>2.470833</td>\n",
       "      <td>2.245015</td>\n",
       "      <td>0.341623</td>\n",
       "      <td>0.341623</td>\n",
       "      <td>03:51</td>\n",
       "    </tr>\n",
       "    <tr>\n",
       "      <td>2</td>\n",
       "      <td>2.324831</td>\n",
       "      <td>1.967281</td>\n",
       "      <td>0.432806</td>\n",
       "      <td>0.432806</td>\n",
       "      <td>03:45</td>\n",
       "    </tr>\n",
       "    <tr>\n",
       "      <td>3</td>\n",
       "      <td>2.241331</td>\n",
       "      <td>1.975148</td>\n",
       "      <td>0.428536</td>\n",
       "      <td>0.428536</td>\n",
       "      <td>03:53</td>\n",
       "    </tr>\n",
       "    <tr>\n",
       "      <td>4</td>\n",
       "      <td>2.194287</td>\n",
       "      <td>1.999135</td>\n",
       "      <td>0.425772</td>\n",
       "      <td>0.425772</td>\n",
       "      <td>03:47</td>\n",
       "    </tr>\n",
       "    <tr>\n",
       "      <td>5</td>\n",
       "      <td>2.162436</td>\n",
       "      <td>1.914479</td>\n",
       "      <td>0.460939</td>\n",
       "      <td>0.460939</td>\n",
       "      <td>03:46</td>\n",
       "    </tr>\n",
       "    <tr>\n",
       "      <td>6</td>\n",
       "      <td>2.138791</td>\n",
       "      <td>1.899359</td>\n",
       "      <td>0.463954</td>\n",
       "      <td>0.463954</td>\n",
       "      <td>03:47</td>\n",
       "    </tr>\n",
       "    <tr>\n",
       "      <td>7</td>\n",
       "      <td>2.111634</td>\n",
       "      <td>1.851081</td>\n",
       "      <td>0.479528</td>\n",
       "      <td>0.479528</td>\n",
       "      <td>03:48</td>\n",
       "    </tr>\n",
       "    <tr>\n",
       "      <td>8</td>\n",
       "      <td>2.089119</td>\n",
       "      <td>1.832458</td>\n",
       "      <td>0.485054</td>\n",
       "      <td>0.485054</td>\n",
       "      <td>03:47</td>\n",
       "    </tr>\n",
       "    <tr>\n",
       "      <td>9</td>\n",
       "      <td>2.095253</td>\n",
       "      <td>1.880181</td>\n",
       "      <td>0.464205</td>\n",
       "      <td>0.464205</td>\n",
       "      <td>03:48</td>\n",
       "    </tr>\n",
       "    <tr>\n",
       "      <td>10</td>\n",
       "      <td>2.068538</td>\n",
       "      <td>1.821849</td>\n",
       "      <td>0.489827</td>\n",
       "      <td>0.489827</td>\n",
       "      <td>03:44</td>\n",
       "    </tr>\n",
       "    <tr>\n",
       "      <td>11</td>\n",
       "      <td>2.068078</td>\n",
       "      <td>1.817098</td>\n",
       "      <td>0.491334</td>\n",
       "      <td>0.491334</td>\n",
       "      <td>03:57</td>\n",
       "    </tr>\n",
       "    <tr>\n",
       "      <td>12</td>\n",
       "      <td>2.069983</td>\n",
       "      <td>1.794593</td>\n",
       "      <td>0.503893</td>\n",
       "      <td>0.503893</td>\n",
       "      <td>03:54</td>\n",
       "    </tr>\n",
       "    <tr>\n",
       "      <td>13</td>\n",
       "      <td>2.027997</td>\n",
       "      <td>1.795123</td>\n",
       "      <td>0.494851</td>\n",
       "      <td>0.494851</td>\n",
       "      <td>03:52</td>\n",
       "    </tr>\n",
       "    <tr>\n",
       "      <td>14</td>\n",
       "      <td>2.044761</td>\n",
       "      <td>1.770270</td>\n",
       "      <td>0.513690</td>\n",
       "      <td>0.513690</td>\n",
       "      <td>03:53</td>\n",
       "    </tr>\n",
       "    <tr>\n",
       "      <td>15</td>\n",
       "      <td>2.025984</td>\n",
       "      <td>1.787665</td>\n",
       "      <td>0.513439</td>\n",
       "      <td>0.513439</td>\n",
       "      <td>03:49</td>\n",
       "    </tr>\n",
       "    <tr>\n",
       "      <td>16</td>\n",
       "      <td>2.001944</td>\n",
       "      <td>1.789614</td>\n",
       "      <td>0.507410</td>\n",
       "      <td>0.507410</td>\n",
       "      <td>03:47</td>\n",
       "    </tr>\n",
       "    <tr>\n",
       "      <td>17</td>\n",
       "      <td>2.013989</td>\n",
       "      <td>1.756083</td>\n",
       "      <td>0.518714</td>\n",
       "      <td>0.518714</td>\n",
       "      <td>03:43</td>\n",
       "    </tr>\n",
       "    <tr>\n",
       "      <td>18</td>\n",
       "      <td>1.990614</td>\n",
       "      <td>1.788009</td>\n",
       "      <td>0.501633</td>\n",
       "      <td>0.501633</td>\n",
       "      <td>03:44</td>\n",
       "    </tr>\n",
       "    <tr>\n",
       "      <td>19</td>\n",
       "      <td>2.001062</td>\n",
       "      <td>1.767962</td>\n",
       "      <td>0.513690</td>\n",
       "      <td>0.513690</td>\n",
       "      <td>03:45</td>\n",
       "    </tr>\n",
       "    <tr>\n",
       "      <td>20</td>\n",
       "      <td>1.994969</td>\n",
       "      <td>1.746650</td>\n",
       "      <td>0.515951</td>\n",
       "      <td>0.515951</td>\n",
       "      <td>03:47</td>\n",
       "    </tr>\n",
       "    <tr>\n",
       "      <td>21</td>\n",
       "      <td>1.995242</td>\n",
       "      <td>1.749913</td>\n",
       "      <td>0.515448</td>\n",
       "      <td>0.515448</td>\n",
       "      <td>03:47</td>\n",
       "    </tr>\n",
       "    <tr>\n",
       "      <td>22</td>\n",
       "      <td>1.968758</td>\n",
       "      <td>1.766760</td>\n",
       "      <td>0.512936</td>\n",
       "      <td>0.512936</td>\n",
       "      <td>03:49</td>\n",
       "    </tr>\n",
       "    <tr>\n",
       "      <td>23</td>\n",
       "      <td>1.958108</td>\n",
       "      <td>1.732975</td>\n",
       "      <td>0.525245</td>\n",
       "      <td>0.525245</td>\n",
       "      <td>03:48</td>\n",
       "    </tr>\n",
       "    <tr>\n",
       "      <td>24</td>\n",
       "      <td>1.953087</td>\n",
       "      <td>1.718628</td>\n",
       "      <td>0.527003</td>\n",
       "      <td>0.527003</td>\n",
       "      <td>03:48</td>\n",
       "    </tr>\n",
       "    <tr>\n",
       "      <td>25</td>\n",
       "      <td>1.963714</td>\n",
       "      <td>1.745293</td>\n",
       "      <td>0.519719</td>\n",
       "      <td>0.519719</td>\n",
       "      <td>03:55</td>\n",
       "    </tr>\n",
       "    <tr>\n",
       "      <td>26</td>\n",
       "      <td>1.939086</td>\n",
       "      <td>1.722286</td>\n",
       "      <td>0.524994</td>\n",
       "      <td>0.524994</td>\n",
       "      <td>03:52</td>\n",
       "    </tr>\n",
       "    <tr>\n",
       "      <td>27</td>\n",
       "      <td>1.943703</td>\n",
       "      <td>1.744630</td>\n",
       "      <td>0.523235</td>\n",
       "      <td>0.523235</td>\n",
       "      <td>04:01</td>\n",
       "    </tr>\n",
       "    <tr>\n",
       "      <td>28</td>\n",
       "      <td>1.942756</td>\n",
       "      <td>1.750110</td>\n",
       "      <td>0.515951</td>\n",
       "      <td>0.515951</td>\n",
       "      <td>03:47</td>\n",
       "    </tr>\n",
       "    <tr>\n",
       "      <td>29</td>\n",
       "      <td>1.924278</td>\n",
       "      <td>1.698855</td>\n",
       "      <td>0.537805</td>\n",
       "      <td>0.537805</td>\n",
       "      <td>03:46</td>\n",
       "    </tr>\n",
       "    <tr>\n",
       "      <td>30</td>\n",
       "      <td>1.894203</td>\n",
       "      <td>1.687737</td>\n",
       "      <td>0.541070</td>\n",
       "      <td>0.541070</td>\n",
       "      <td>03:44</td>\n",
       "    </tr>\n",
       "    <tr>\n",
       "      <td>31</td>\n",
       "      <td>1.911633</td>\n",
       "      <td>1.708662</td>\n",
       "      <td>0.534037</td>\n",
       "      <td>0.534037</td>\n",
       "      <td>03:46</td>\n",
       "    </tr>\n",
       "    <tr>\n",
       "      <td>32</td>\n",
       "      <td>1.885239</td>\n",
       "      <td>1.686191</td>\n",
       "      <td>0.544838</td>\n",
       "      <td>0.544838</td>\n",
       "      <td>03:45</td>\n",
       "    </tr>\n",
       "    <tr>\n",
       "      <td>33</td>\n",
       "      <td>1.866893</td>\n",
       "      <td>1.672892</td>\n",
       "      <td>0.546094</td>\n",
       "      <td>0.546094</td>\n",
       "      <td>03:49</td>\n",
       "    </tr>\n",
       "    <tr>\n",
       "      <td>34</td>\n",
       "      <td>1.858848</td>\n",
       "      <td>1.688387</td>\n",
       "      <td>0.541321</td>\n",
       "      <td>0.541321</td>\n",
       "      <td>03:49</td>\n",
       "    </tr>\n",
       "    <tr>\n",
       "      <td>35</td>\n",
       "      <td>1.828006</td>\n",
       "      <td>1.667824</td>\n",
       "      <td>0.542075</td>\n",
       "      <td>0.542075</td>\n",
       "      <td>03:47</td>\n",
       "    </tr>\n",
       "    <tr>\n",
       "      <td>36</td>\n",
       "      <td>1.795365</td>\n",
       "      <td>1.656119</td>\n",
       "      <td>0.558402</td>\n",
       "      <td>0.558402</td>\n",
       "      <td>03:46</td>\n",
       "    </tr>\n",
       "    <tr>\n",
       "      <td>37</td>\n",
       "      <td>1.808478</td>\n",
       "      <td>1.656554</td>\n",
       "      <td>0.559658</td>\n",
       "      <td>0.559658</td>\n",
       "      <td>03:47</td>\n",
       "    </tr>\n",
       "    <tr>\n",
       "      <td>38</td>\n",
       "      <td>1.786275</td>\n",
       "      <td>1.653454</td>\n",
       "      <td>0.557146</td>\n",
       "      <td>0.557146</td>\n",
       "      <td>03:48</td>\n",
       "    </tr>\n",
       "    <tr>\n",
       "      <td>39</td>\n",
       "      <td>1.780816</td>\n",
       "      <td>1.655078</td>\n",
       "      <td>0.559910</td>\n",
       "      <td>0.559910</td>\n",
       "      <td>03:44</td>\n",
       "    </tr>\n",
       "  </tbody>\n",
       "</table>"
      ],
      "text/plain": [
       "<IPython.core.display.HTML object>"
      ]
     },
     "metadata": {},
     "output_type": "display_data"
    },
    {
     "data": {
      "image/png": "[encoded data removed]",
      "text/plain": [
       "<Figure size 432x288 with 1 Axes>"
      ]
     },
     "metadata": {},
     "output_type": "display_data"
    },
    {
     "data": {
      "text/html": [
       "\n",
       "<style>\n",
       "    /* Turns off some styling */\n",
       "    progress {\n",
       "        /* gets rid of default border in Firefox and Opera. */\n",
       "        border: none;\n",
       "        /* Needs to be in here for Safari polyfill so background images work as expected. */\n",
       "        background-size: auto;\n",
       "    }\n",
       "    .progress-bar-interrupted, .progress-bar-interrupted::-webkit-progress-bar {\n",
       "        background: #F44336;\n",
       "    }\n",
       "</style>\n"
      ],
      "text/plain": [
       "<IPython.core.display.HTML object>"
      ]
     },
     "metadata": {},
     "output_type": "display_data"
    },
    {
     "data": {
      "text/html": [],
      "text/plain": [
       "<IPython.core.display.HTML object>"
      ]
     },
     "metadata": {},
     "output_type": "display_data"
    },
    {
     "data": {
      "text/html": [
       "\n",
       "<style>\n",
       "    /* Turns off some styling */\n",
       "    progress {\n",
       "        /* gets rid of default border in Firefox and Opera. */\n",
       "        border: none;\n",
       "        /* Needs to be in here for Safari polyfill so background images work as expected. */\n",
       "        background-size: auto;\n",
       "    }\n",
       "    .progress-bar-interrupted, .progress-bar-interrupted::-webkit-progress-bar {\n",
       "        background: #F44336;\n",
       "    }\n",
       "</style>\n"
      ],
      "text/plain": [
       "<IPython.core.display.HTML object>"
      ]
     },
     "metadata": {},
     "output_type": "display_data"
    },
    {
     "data": {
      "text/html": [
       "<table border=\"1\" class=\"dataframe\">\n",
       "  <thead>\n",
       "    <tr style=\"text-align: left;\">\n",
       "      <th>epoch</th>\n",
       "      <th>train_loss</th>\n",
       "      <th>valid_loss</th>\n",
       "      <th>accuracy</th>\n",
       "      <th>f1_score</th>\n",
       "      <th>time</th>\n",
       "    </tr>\n",
       "  </thead>\n",
       "  <tbody>\n",
       "    <tr>\n",
       "      <td>0</td>\n",
       "      <td>2.890277</td>\n",
       "      <td>2.466772</td>\n",
       "      <td>0.313065</td>\n",
       "      <td>0.313065</td>\n",
       "      <td>03:46</td>\n",
       "    </tr>\n",
       "    <tr>\n",
       "      <td>1</td>\n",
       "      <td>2.482147</td>\n",
       "      <td>2.198463</td>\n",
       "      <td>0.373869</td>\n",
       "      <td>0.373869</td>\n",
       "      <td>03:49</td>\n",
       "    </tr>\n",
       "    <tr>\n",
       "      <td>2</td>\n",
       "      <td>2.316531</td>\n",
       "      <td>2.063838</td>\n",
       "      <td>0.411558</td>\n",
       "      <td>0.411558</td>\n",
       "      <td>03:51</td>\n",
       "    </tr>\n",
       "    <tr>\n",
       "      <td>3</td>\n",
       "      <td>2.255483</td>\n",
       "      <td>2.297049</td>\n",
       "      <td>0.334171</td>\n",
       "      <td>0.334171</td>\n",
       "      <td>03:50</td>\n",
       "    </tr>\n",
       "    <tr>\n",
       "      <td>4</td>\n",
       "      <td>2.220008</td>\n",
       "      <td>2.130080</td>\n",
       "      <td>0.393467</td>\n",
       "      <td>0.393467</td>\n",
       "      <td>03:51</td>\n",
       "    </tr>\n",
       "    <tr>\n",
       "      <td>5</td>\n",
       "      <td>2.161681</td>\n",
       "      <td>1.939044</td>\n",
       "      <td>0.453015</td>\n",
       "      <td>0.453015</td>\n",
       "      <td>03:51</td>\n",
       "    </tr>\n",
       "    <tr>\n",
       "      <td>6</td>\n",
       "      <td>2.131852</td>\n",
       "      <td>1.905648</td>\n",
       "      <td>0.455025</td>\n",
       "      <td>0.455025</td>\n",
       "      <td>03:51</td>\n",
       "    </tr>\n",
       "    <tr>\n",
       "      <td>7</td>\n",
       "      <td>2.131591</td>\n",
       "      <td>1.922859</td>\n",
       "      <td>0.458291</td>\n",
       "      <td>0.458291</td>\n",
       "      <td>03:50</td>\n",
       "    </tr>\n",
       "    <tr>\n",
       "      <td>8</td>\n",
       "      <td>2.102609</td>\n",
       "      <td>1.848739</td>\n",
       "      <td>0.478894</td>\n",
       "      <td>0.478894</td>\n",
       "      <td>03:46</td>\n",
       "    </tr>\n",
       "    <tr>\n",
       "      <td>9</td>\n",
       "      <td>2.091279</td>\n",
       "      <td>1.847599</td>\n",
       "      <td>0.471608</td>\n",
       "      <td>0.471608</td>\n",
       "      <td>03:43</td>\n",
       "    </tr>\n",
       "    <tr>\n",
       "      <td>10</td>\n",
       "      <td>2.065168</td>\n",
       "      <td>1.811524</td>\n",
       "      <td>0.497236</td>\n",
       "      <td>0.497236</td>\n",
       "      <td>03:49</td>\n",
       "    </tr>\n",
       "    <tr>\n",
       "      <td>11</td>\n",
       "      <td>2.054593</td>\n",
       "      <td>1.789585</td>\n",
       "      <td>0.511307</td>\n",
       "      <td>0.511307</td>\n",
       "      <td>03:52</td>\n",
       "    </tr>\n",
       "    <tr>\n",
       "      <td>12</td>\n",
       "      <td>2.066455</td>\n",
       "      <td>1.821312</td>\n",
       "      <td>0.508040</td>\n",
       "      <td>0.508040</td>\n",
       "      <td>03:56</td>\n",
       "    </tr>\n",
       "    <tr>\n",
       "      <td>13</td>\n",
       "      <td>2.047846</td>\n",
       "      <td>1.804067</td>\n",
       "      <td>0.503518</td>\n",
       "      <td>0.503518</td>\n",
       "      <td>03:53</td>\n",
       "    </tr>\n",
       "    <tr>\n",
       "      <td>14</td>\n",
       "      <td>2.038166</td>\n",
       "      <td>1.783291</td>\n",
       "      <td>0.513065</td>\n",
       "      <td>0.513065</td>\n",
       "      <td>03:51</td>\n",
       "    </tr>\n",
       "    <tr>\n",
       "      <td>15</td>\n",
       "      <td>2.021473</td>\n",
       "      <td>1.773861</td>\n",
       "      <td>0.515075</td>\n",
       "      <td>0.515075</td>\n",
       "      <td>03:53</td>\n",
       "    </tr>\n",
       "    <tr>\n",
       "      <td>16</td>\n",
       "      <td>2.017172</td>\n",
       "      <td>1.846361</td>\n",
       "      <td>0.490452</td>\n",
       "      <td>0.490452</td>\n",
       "      <td>03:53</td>\n",
       "    </tr>\n",
       "    <tr>\n",
       "      <td>17</td>\n",
       "      <td>1.999446</td>\n",
       "      <td>1.755909</td>\n",
       "      <td>0.531910</td>\n",
       "      <td>0.531910</td>\n",
       "      <td>04:01</td>\n",
       "    </tr>\n",
       "    <tr>\n",
       "      <td>18</td>\n",
       "      <td>1.992467</td>\n",
       "      <td>1.796741</td>\n",
       "      <td>0.516332</td>\n",
       "      <td>0.516332</td>\n",
       "      <td>03:55</td>\n",
       "    </tr>\n",
       "    <tr>\n",
       "      <td>19</td>\n",
       "      <td>1.996143</td>\n",
       "      <td>1.758938</td>\n",
       "      <td>0.517588</td>\n",
       "      <td>0.517588</td>\n",
       "      <td>03:59</td>\n",
       "    </tr>\n",
       "    <tr>\n",
       "      <td>20</td>\n",
       "      <td>1.971278</td>\n",
       "      <td>1.731000</td>\n",
       "      <td>0.540452</td>\n",
       "      <td>0.540452</td>\n",
       "      <td>03:56</td>\n",
       "    </tr>\n",
       "    <tr>\n",
       "      <td>21</td>\n",
       "      <td>1.977719</td>\n",
       "      <td>1.772504</td>\n",
       "      <td>0.522613</td>\n",
       "      <td>0.522613</td>\n",
       "      <td>03:54</td>\n",
       "    </tr>\n",
       "    <tr>\n",
       "      <td>22</td>\n",
       "      <td>1.972652</td>\n",
       "      <td>1.732294</td>\n",
       "      <td>0.534673</td>\n",
       "      <td>0.534673</td>\n",
       "      <td>03:58</td>\n",
       "    </tr>\n",
       "    <tr>\n",
       "      <td>23</td>\n",
       "      <td>1.971071</td>\n",
       "      <td>1.746511</td>\n",
       "      <td>0.527889</td>\n",
       "      <td>0.527889</td>\n",
       "      <td>03:54</td>\n",
       "    </tr>\n",
       "    <tr>\n",
       "      <td>24</td>\n",
       "      <td>1.964072</td>\n",
       "      <td>1.736241</td>\n",
       "      <td>0.537940</td>\n",
       "      <td>0.537940</td>\n",
       "      <td>03:54</td>\n",
       "    </tr>\n",
       "    <tr>\n",
       "      <td>25</td>\n",
       "      <td>1.943132</td>\n",
       "      <td>1.734669</td>\n",
       "      <td>0.532412</td>\n",
       "      <td>0.532412</td>\n",
       "      <td>03:59</td>\n",
       "    </tr>\n",
       "    <tr>\n",
       "      <td>26</td>\n",
       "      <td>1.939432</td>\n",
       "      <td>1.704945</td>\n",
       "      <td>0.539950</td>\n",
       "      <td>0.539950</td>\n",
       "      <td>03:53</td>\n",
       "    </tr>\n",
       "    <tr>\n",
       "      <td>27</td>\n",
       "      <td>1.928362</td>\n",
       "      <td>1.737563</td>\n",
       "      <td>0.528392</td>\n",
       "      <td>0.528392</td>\n",
       "      <td>03:50</td>\n",
       "    </tr>\n",
       "    <tr>\n",
       "      <td>28</td>\n",
       "      <td>1.924501</td>\n",
       "      <td>1.726622</td>\n",
       "      <td>0.533920</td>\n",
       "      <td>0.533920</td>\n",
       "      <td>03:52</td>\n",
       "    </tr>\n",
       "    <tr>\n",
       "      <td>29</td>\n",
       "      <td>1.924469</td>\n",
       "      <td>1.706100</td>\n",
       "      <td>0.541457</td>\n",
       "      <td>0.541457</td>\n",
       "      <td>03:51</td>\n",
       "    </tr>\n",
       "    <tr>\n",
       "      <td>30</td>\n",
       "      <td>1.917477</td>\n",
       "      <td>1.721141</td>\n",
       "      <td>0.525126</td>\n",
       "      <td>0.525126</td>\n",
       "      <td>03:58</td>\n",
       "    </tr>\n",
       "    <tr>\n",
       "      <td>31</td>\n",
       "      <td>1.888021</td>\n",
       "      <td>1.701317</td>\n",
       "      <td>0.544724</td>\n",
       "      <td>0.544724</td>\n",
       "      <td>03:56</td>\n",
       "    </tr>\n",
       "    <tr>\n",
       "      <td>32</td>\n",
       "      <td>1.903172</td>\n",
       "      <td>1.691126</td>\n",
       "      <td>0.547487</td>\n",
       "      <td>0.547487</td>\n",
       "      <td>03:57</td>\n",
       "    </tr>\n",
       "    <tr>\n",
       "      <td>33</td>\n",
       "      <td>1.856028</td>\n",
       "      <td>1.690486</td>\n",
       "      <td>0.552010</td>\n",
       "      <td>0.552010</td>\n",
       "      <td>03:52</td>\n",
       "    </tr>\n",
       "    <tr>\n",
       "      <td>34</td>\n",
       "      <td>1.846756</td>\n",
       "      <td>1.685258</td>\n",
       "      <td>0.549497</td>\n",
       "      <td>0.549497</td>\n",
       "      <td>03:50</td>\n",
       "    </tr>\n",
       "    <tr>\n",
       "      <td>35</td>\n",
       "      <td>1.847646</td>\n",
       "      <td>1.672841</td>\n",
       "      <td>0.565327</td>\n",
       "      <td>0.565327</td>\n",
       "      <td>03:48</td>\n",
       "    </tr>\n",
       "    <tr>\n",
       "      <td>36</td>\n",
       "      <td>1.831710</td>\n",
       "      <td>1.664156</td>\n",
       "      <td>0.562312</td>\n",
       "      <td>0.562312</td>\n",
       "      <td>03:48</td>\n",
       "    </tr>\n",
       "    <tr>\n",
       "      <td>37</td>\n",
       "      <td>1.796227</td>\n",
       "      <td>1.659834</td>\n",
       "      <td>0.559799</td>\n",
       "      <td>0.559799</td>\n",
       "      <td>03:49</td>\n",
       "    </tr>\n",
       "    <tr>\n",
       "      <td>38</td>\n",
       "      <td>1.800047</td>\n",
       "      <td>1.658864</td>\n",
       "      <td>0.568090</td>\n",
       "      <td>0.568090</td>\n",
       "      <td>03:52</td>\n",
       "    </tr>\n",
       "    <tr>\n",
       "      <td>39</td>\n",
       "      <td>1.770999</td>\n",
       "      <td>1.657775</td>\n",
       "      <td>0.567839</td>\n",
       "      <td>0.567839</td>\n",
       "      <td>03:53</td>\n",
       "    </tr>\n",
       "  </tbody>\n",
       "</table>"
      ],
      "text/plain": [
       "<IPython.core.display.HTML object>"
      ]
     },
     "metadata": {},
     "output_type": "display_data"
    },
    {
     "data": {
      "image/png": "[encoded data removed]",
      "text/plain": [
       "<Figure size 432x288 with 1 Axes>"
      ]
     },
     "metadata": {},
     "output_type": "display_data"
    },
    {
     "name": "stderr",
     "output_type": "stream",
     "text": [
      "IOPub message rate exceeded.\n",
      "The notebook server will temporarily stop sending output\n",
      "to the client in order to avoid crashing it.\n",
      "To change this limit, set the config variable\n",
      "`--NotebookApp.iopub_msg_rate_limit`.\n",
      "\n",
      "Current values:\n",
      "NotebookApp.iopub_msg_rate_limit=1000.0 (msgs/sec)\n",
      "NotebookApp.rate_limit_window=3.0 (secs)\n",
      "\n",
      "IOPub message rate exceeded.\n",
      "The notebook server will temporarily stop sending output\n",
      "to the client in order to avoid crashing it.\n",
      "To change this limit, set the config variable\n",
      "`--NotebookApp.iopub_msg_rate_limit`.\n",
      "\n",
      "Current values:\n",
      "NotebookApp.iopub_msg_rate_limit=1000.0 (msgs/sec)\n",
      "NotebookApp.rate_limit_window=3.0 (secs)\n",
      "\n"
     ]
    },
    {
     "data": {
      "text/html": [
       "\n",
       "<style>\n",
       "    /* Turns off some styling */\n",
       "    progress {\n",
       "        /* gets rid of default border in Firefox and Opera. */\n",
       "        border: none;\n",
       "        /* Needs to be in here for Safari polyfill so background images work as expected. */\n",
       "        background-size: auto;\n",
       "    }\n",
       "    .progress-bar-interrupted, .progress-bar-interrupted::-webkit-progress-bar {\n",
       "        background: #F44336;\n",
       "    }\n",
       "</style>\n"
      ],
      "text/plain": [
       "<IPython.core.display.HTML object>"
      ]
     },
     "metadata": {},
     "output_type": "display_data"
    },
    {
     "data": {
      "text/html": [],
      "text/plain": [
       "<IPython.core.display.HTML object>"
      ]
     },
     "metadata": {},
     "output_type": "display_data"
    }
   ],
   "source": [
    "preds_kfold_learns = [get_preds(split_1fold) for split_1fold in splits_kfold[:3]]"
   ]
  },
  {
   "cell_type": "code",
   "execution_count": 36,
   "id": "7e2957b2",
   "metadata": {},
   "outputs": [],
   "source": [
    "# len(preds_kfold_learns)"
   ]
  },
  {
   "cell_type": "code",
   "execution_count": 37,
   "id": "ad120c0c",
   "metadata": {},
   "outputs": [],
   "source": [
    "# _, learn = preds_kfold_learns[0]"
   ]
  },
  {
   "cell_type": "code",
   "execution_count": 38,
   "id": "49b8aad8",
   "metadata": {},
   "outputs": [],
   "source": [
    "# test_dl = learn.dls.test_dl(test_items)"
   ]
  },
  {
   "cell_type": "code",
   "execution_count": 39,
   "id": "78dd01be",
   "metadata": {},
   "outputs": [],
   "source": [
    "# preds = learn.get_preds(dl=test_dl)"
   ]
  },
  {
   "cell_type": "code",
   "execution_count": 40,
   "id": "3ad8d370",
   "metadata": {},
   "outputs": [],
   "source": [
    "_before_epoch = [event.before_fit, event.before_epoch]\n",
    "_after_epoch  = [event.after_epoch, event.after_fit]"
   ]
  },
  {
   "cell_type": "code",
   "execution_count": 41,
   "id": "77ec0de0",
   "metadata": {},
   "outputs": [],
   "source": [
    "@patch\n",
    "def ttacustom(self:Learner, ds_idx=1, dl=None, n=4, item_tfms=None, batch_tfms=None, beta=0.25, use_max=False):\n",
    "    \"Return predictions on the `ds_idx` dataset or `dl` using Test Time Augmentation\"\n",
    "    if dl is None: dl = self.dls[ds_idx].new(shuffled=False, drop_last=False)\n",
    "    if item_tfms is not None or batch_tfms is not None: dl = dl.new(after_item=item_tfms, after_batch=batch_tfms)\n",
    "    try:\n",
    "        self(_before_epoch)\n",
    "        with dl.dataset.set_split_idx(0), self.no_mbar():\n",
    "            if hasattr(self,'progress'): self.progress.mbar = master_bar(list(range(n)))\n",
    "            aug_preds = []\n",
    "            for i in self.progress.mbar if hasattr(self,'progress') else range(n):\n",
    "                self.epoch = i #To keep track of progress on mbar since the progress callback will use self.epoch\n",
    "                preds = self.get_preds(dl=dl, inner=True)[0][None]\n",
    "                preds_idx = preds.squeeze().argmax(1)\n",
    "                aug_preds.append(preds_idx)\n",
    "#         aug_preds = torch.cat(aug_preds)\n",
    "#         aug_preds = aug_preds.max(0)[0] if use_max else aug_preds.mean(0)\n",
    "#         self.epoch = n\n",
    "#         with dl.dataset.set_split_idx(1): preds,targs = self.get_preds(dl=dl, inner=True)\n",
    "    finally: self(event.after_fit)\n",
    "\n",
    "#     if use_max: return torch.stack([preds, aug_preds], 0).max(0)[0],targs\n",
    "#     preds = (aug_preds,preds) if beta is None else torch.lerp(aug_preds, preds, beta)\n",
    "    return aug_preds"
   ]
  },
  {
   "cell_type": "code",
   "execution_count": 42,
   "id": "91a71dba",
   "metadata": {},
   "outputs": [],
   "source": [
    "# aug_preds = learn.ttacustom(dl=test_dl, n=2, beta=None)"
   ]
  },
  {
   "cell_type": "code",
   "execution_count": 43,
   "id": "52205b4e",
   "metadata": {},
   "outputs": [],
   "source": [
    "# aug_preds"
   ]
  },
  {
   "cell_type": "code",
   "execution_count": null,
   "id": "487430a2",
   "metadata": {},
   "outputs": [],
   "source": []
  },
  {
   "cell_type": "code",
   "execution_count": 44,
   "id": "90e357c7",
   "metadata": {},
   "outputs": [],
   "source": [
    "# preds_kfold = [pred_learn[0] for pred_learn in preds_kfold_learns]\n",
    "learns = [pred_learn[1] for pred_learn in preds_kfold_learns]"
   ]
  },
  {
   "cell_type": "code",
   "execution_count": 45,
   "id": "fe21e2fd",
   "metadata": {},
   "outputs": [
    {
     "data": {
      "text/html": [
       "\n",
       "<style>\n",
       "    /* Turns off some styling */\n",
       "    progress {\n",
       "        /* gets rid of default border in Firefox and Opera. */\n",
       "        border: none;\n",
       "        /* Needs to be in here for Safari polyfill so background images work as expected. */\n",
       "        background-size: auto;\n",
       "    }\n",
       "    .progress-bar-interrupted, .progress-bar-interrupted::-webkit-progress-bar {\n",
       "        background: #F44336;\n",
       "    }\n",
       "</style>\n"
      ],
      "text/plain": [
       "<IPython.core.display.HTML object>"
      ]
     },
     "metadata": {},
     "output_type": "display_data"
    },
    {
     "data": {
      "text/html": [
       "\n",
       "    <div>\n",
       "      <progress value='0' class='' max='40' style='width:300px; height:20px; vertical-align: middle;'></progress>\n",
       "      \n",
       "    </div>\n",
       "    \n"
      ],
      "text/plain": [
       "<IPython.core.display.HTML object>"
      ]
     },
     "metadata": {},
     "output_type": "display_data"
    },
    {
     "data": {
      "text/html": [
       "\n",
       "<style>\n",
       "    /* Turns off some styling */\n",
       "    progress {\n",
       "        /* gets rid of default border in Firefox and Opera. */\n",
       "        border: none;\n",
       "        /* Needs to be in here for Safari polyfill so background images work as expected. */\n",
       "        background-size: auto;\n",
       "    }\n",
       "    .progress-bar-interrupted, .progress-bar-interrupted::-webkit-progress-bar {\n",
       "        background: #F44336;\n",
       "    }\n",
       "</style>\n"
      ],
      "text/plain": [
       "<IPython.core.display.HTML object>"
      ]
     },
     "metadata": {},
     "output_type": "display_data"
    },
    {
     "data": {
      "text/html": [],
      "text/plain": [
       "<IPython.core.display.HTML object>"
      ]
     },
     "metadata": {},
     "output_type": "display_data"
    },
    {
     "data": {
      "text/html": [
       "\n",
       "<style>\n",
       "    /* Turns off some styling */\n",
       "    progress {\n",
       "        /* gets rid of default border in Firefox and Opera. */\n",
       "        border: none;\n",
       "        /* Needs to be in here for Safari polyfill so background images work as expected. */\n",
       "        background-size: auto;\n",
       "    }\n",
       "    .progress-bar-interrupted, .progress-bar-interrupted::-webkit-progress-bar {\n",
       "        background: #F44336;\n",
       "    }\n",
       "</style>\n"
      ],
      "text/plain": [
       "<IPython.core.display.HTML object>"
      ]
     },
     "metadata": {},
     "output_type": "display_data"
    },
    {
     "data": {
      "text/html": [
       "\n",
       "    <div>\n",
       "      <progress value='0' class='' max='40' style='width:300px; height:20px; vertical-align: middle;'></progress>\n",
       "      \n",
       "    </div>\n",
       "    \n"
      ],
      "text/plain": [
       "<IPython.core.display.HTML object>"
      ]
     },
     "metadata": {},
     "output_type": "display_data"
    },
    {
     "data": {
      "text/html": [
       "\n",
       "<style>\n",
       "    /* Turns off some styling */\n",
       "    progress {\n",
       "        /* gets rid of default border in Firefox and Opera. */\n",
       "        border: none;\n",
       "        /* Needs to be in here for Safari polyfill so background images work as expected. */\n",
       "        background-size: auto;\n",
       "    }\n",
       "    .progress-bar-interrupted, .progress-bar-interrupted::-webkit-progress-bar {\n",
       "        background: #F44336;\n",
       "    }\n",
       "</style>\n"
      ],
      "text/plain": [
       "<IPython.core.display.HTML object>"
      ]
     },
     "metadata": {},
     "output_type": "display_data"
    },
    {
     "data": {
      "text/html": [],
      "text/plain": [
       "<IPython.core.display.HTML object>"
      ]
     },
     "metadata": {},
     "output_type": "display_data"
    },
    {
     "data": {
      "text/html": [
       "\n",
       "<style>\n",
       "    /* Turns off some styling */\n",
       "    progress {\n",
       "        /* gets rid of default border in Firefox and Opera. */\n",
       "        border: none;\n",
       "        /* Needs to be in here for Safari polyfill so background images work as expected. */\n",
       "        background-size: auto;\n",
       "    }\n",
       "    .progress-bar-interrupted, .progress-bar-interrupted::-webkit-progress-bar {\n",
       "        background: #F44336;\n",
       "    }\n",
       "</style>\n"
      ],
      "text/plain": [
       "<IPython.core.display.HTML object>"
      ]
     },
     "metadata": {},
     "output_type": "display_data"
    },
    {
     "data": {
      "text/html": [
       "\n",
       "    <div>\n",
       "      <progress value='0' class='' max='40' style='width:300px; height:20px; vertical-align: middle;'></progress>\n",
       "      \n",
       "    </div>\n",
       "    \n"
      ],
      "text/plain": [
       "<IPython.core.display.HTML object>"
      ]
     },
     "metadata": {},
     "output_type": "display_data"
    },
    {
     "data": {
      "text/html": [
       "\n",
       "<style>\n",
       "    /* Turns off some styling */\n",
       "    progress {\n",
       "        /* gets rid of default border in Firefox and Opera. */\n",
       "        border: none;\n",
       "        /* Needs to be in here for Safari polyfill so background images work as expected. */\n",
       "        background-size: auto;\n",
       "    }\n",
       "    .progress-bar-interrupted, .progress-bar-interrupted::-webkit-progress-bar {\n",
       "        background: #F44336;\n",
       "    }\n",
       "</style>\n"
      ],
      "text/plain": [
       "<IPython.core.display.HTML object>"
      ]
     },
     "metadata": {},
     "output_type": "display_data"
    },
    {
     "data": {
      "text/html": [],
      "text/plain": [
       "<IPython.core.display.HTML object>"
      ]
     },
     "metadata": {},
     "output_type": "display_data"
    }
   ],
   "source": [
    "aug_preds = []\n",
    "for learn in learns:\n",
    "    test_dl = learn.dls.test_dl(test_items)\n",
    "    aug_preds_1fold = learn.ttacustom(dl=test_dl, n=21, beta=None)\n",
    "    aug_preds.extend(aug_preds_1fold)"
   ]
  },
  {
   "cell_type": "code",
   "execution_count": 46,
   "id": "4a9588b7",
   "metadata": {},
   "outputs": [],
   "source": [
    "# aug_preds"
   ]
  },
  {
   "cell_type": "code",
   "execution_count": 62,
   "id": "000e4265",
   "metadata": {},
   "outputs": [
    {
     "data": {
      "text/plain": [
       "63"
      ]
     },
     "execution_count": 62,
     "metadata": {},
     "output_type": "execute_result"
    }
   ],
   "source": [
    "len(aug_preds)"
   ]
  },
  {
   "cell_type": "code",
   "execution_count": 47,
   "id": "100a4373",
   "metadata": {},
   "outputs": [],
   "source": [
    "final_votes = stats.mode(torch.vstack(aug_preds))[0][0]"
   ]
  },
  {
   "cell_type": "code",
   "execution_count": 48,
   "id": "4e52fe5f",
   "metadata": {},
   "outputs": [],
   "source": [
    "# preds_kfold = [np.array(preds[0]) for preds in preds_kfold]"
   ]
  },
  {
   "cell_type": "code",
   "execution_count": 49,
   "id": "ec25b83e",
   "metadata": {},
   "outputs": [],
   "source": [
    "# preds_list = [pred.argmax(axis=1) for pred in preds_kfold]"
   ]
  },
  {
   "cell_type": "code",
   "execution_count": 50,
   "id": "740cdf33",
   "metadata": {},
   "outputs": [],
   "source": [
    "# preds_array = np.array(preds_list)"
   ]
  },
  {
   "cell_type": "code",
   "execution_count": 51,
   "id": "2c497ef0",
   "metadata": {},
   "outputs": [],
   "source": [
    "# preds_array"
   ]
  },
  {
   "cell_type": "code",
   "execution_count": 52,
   "id": "6ed0e1ba",
   "metadata": {},
   "outputs": [],
   "source": [
    "# values, counts = np.unique(preds_array,axis=0, return_counts=True)"
   ]
  },
  {
   "cell_type": "code",
   "execution_count": 53,
   "id": "824c1d68",
   "metadata": {},
   "outputs": [],
   "source": [
    "# Counter(preds_array[:,0]).most_common(1)[0][0]"
   ]
  },
  {
   "cell_type": "code",
   "execution_count": 54,
   "id": "d2e27441",
   "metadata": {},
   "outputs": [],
   "source": [
    "# preds_array.shape"
   ]
  },
  {
   "cell_type": "code",
   "execution_count": 55,
   "id": "db3f7f74",
   "metadata": {},
   "outputs": [],
   "source": [
    "# final_votes = [Counter(preds_array[:,i]).most_common(1)[0][0] for i in range(preds_array.shape[1])]"
   ]
  },
  {
   "cell_type": "code",
   "execution_count": 56,
   "id": "fe480017",
   "metadata": {},
   "outputs": [],
   "source": [
    "# final_preds = np.array(preds_kfold).mean(axis=0)"
   ]
  },
  {
   "cell_type": "code",
   "execution_count": 57,
   "id": "2ae80d1b",
   "metadata": {},
   "outputs": [],
   "source": [
    "# submission[submission['song_id']==\"024013\"]"
   ]
  },
  {
   "cell_type": "code",
   "execution_count": 58,
   "id": "5f702f39",
   "metadata": {},
   "outputs": [
    {
     "data": {
      "text/plain": [
       "torch.Size([63, 5076])"
      ]
     },
     "execution_count": 58,
     "metadata": {},
     "output_type": "execute_result"
    }
   ],
   "source": [
    "torch.vstack(aug_preds).shape"
   ]
  },
  {
   "cell_type": "code",
   "execution_count": 59,
   "id": "70863dd6",
   "metadata": {},
   "outputs": [
    {
     "data": {
      "text/plain": [
       "(5076,)"
      ]
     },
     "execution_count": 59,
     "metadata": {},
     "output_type": "execute_result"
    }
   ],
   "source": [
    "final_votes.shape"
   ]
  },
  {
   "cell_type": "code",
   "execution_count": 60,
   "id": "8e8ddc75",
   "metadata": {},
   "outputs": [],
   "source": [
    "# preds_idx = final_preds.argmax(axis=1)\n",
    "genre2id = pd.read_csv('/home/ubuntu/.kaggle/kaggle-pog-series-s01e02/genres.csv')\n",
    "songid_preds = {int(file_path.name.split('_')[0]):genreid_from_genre(learns[0].dls.vocab[_id]) for file_path, _id in zip(test_items,final_votes)}\n",
    "submission['genre_id'] = submission['song_id'].map(songid_preds)\n",
    "submission['genre_id'].fillna(0, inplace=True)\n",
    "submission.loc[submission['song_id']==22612, 'genre_id'] = 1\n",
    "submission.loc[submission['song_id']==24013, 'genre_id'] = 0\n",
    "\n",
    "submission.genre_id = submission.genre_id.astype(int)\n",
    "submission.to_csv(f\"submission_final_{int(time.time())}.csv\", index=False)"
   ]
  },
  {
   "cell_type": "code",
   "execution_count": 61,
   "id": "64ad546c",
   "metadata": {},
   "outputs": [
    {
     "data": {
      "text/html": [
       "<div>\n",
       "<style scoped>\n",
       "    .dataframe tbody tr th:only-of-type {\n",
       "        vertical-align: middle;\n",
       "    }\n",
       "\n",
       "    .dataframe tbody tr th {\n",
       "        vertical-align: top;\n",
       "    }\n",
       "\n",
       "    .dataframe thead th {\n",
       "        text-align: right;\n",
       "    }\n",
       "</style>\n",
       "<table border=\"1\" class=\"dataframe\">\n",
       "  <thead>\n",
       "    <tr style=\"text-align: right;\">\n",
       "      <th></th>\n",
       "      <th>song_id</th>\n",
       "      <th>genre_id</th>\n",
       "    </tr>\n",
       "  </thead>\n",
       "  <tbody>\n",
       "    <tr>\n",
       "      <th>0</th>\n",
       "      <td>7072</td>\n",
       "      <td>1</td>\n",
       "    </tr>\n",
       "    <tr>\n",
       "      <th>1</th>\n",
       "      <td>10207</td>\n",
       "      <td>12</td>\n",
       "    </tr>\n",
       "    <tr>\n",
       "      <th>2</th>\n",
       "      <td>20008</td>\n",
       "      <td>0</td>\n",
       "    </tr>\n",
       "    <tr>\n",
       "      <th>3</th>\n",
       "      <td>10924</td>\n",
       "      <td>0</td>\n",
       "    </tr>\n",
       "    <tr>\n",
       "      <th>4</th>\n",
       "      <td>21896</td>\n",
       "      <td>4</td>\n",
       "    </tr>\n",
       "    <tr>\n",
       "      <th>...</th>\n",
       "      <td>...</td>\n",
       "      <td>...</td>\n",
       "    </tr>\n",
       "    <tr>\n",
       "      <th>5073</th>\n",
       "      <td>6427</td>\n",
       "      <td>3</td>\n",
       "    </tr>\n",
       "    <tr>\n",
       "      <th>5074</th>\n",
       "      <td>16903</td>\n",
       "      <td>0</td>\n",
       "    </tr>\n",
       "    <tr>\n",
       "      <th>5075</th>\n",
       "      <td>1731</td>\n",
       "      <td>3</td>\n",
       "    </tr>\n",
       "    <tr>\n",
       "      <th>5076</th>\n",
       "      <td>12871</td>\n",
       "      <td>0</td>\n",
       "    </tr>\n",
       "    <tr>\n",
       "      <th>5077</th>\n",
       "      <td>20319</td>\n",
       "      <td>12</td>\n",
       "    </tr>\n",
       "  </tbody>\n",
       "</table>\n",
       "<p>5078 rows × 2 columns</p>\n",
       "</div>"
      ],
      "text/plain": [
       "      song_id  genre_id\n",
       "0        7072         1\n",
       "1       10207        12\n",
       "2       20008         0\n",
       "3       10924         0\n",
       "4       21896         4\n",
       "...       ...       ...\n",
       "5073     6427         3\n",
       "5074    16903         0\n",
       "5075     1731         3\n",
       "5076    12871         0\n",
       "5077    20319        12\n",
       "\n",
       "[5078 rows x 2 columns]"
      ]
     },
     "execution_count": 61,
     "metadata": {},
     "output_type": "execute_result"
    }
   ],
   "source": [
    "submission"
   ]
  },
  {
   "cell_type": "code",
   "execution_count": null,
   "id": "2f3a6355",
   "metadata": {},
   "outputs": [],
   "source": []
  }
 ],
 "metadata": {
  "kernelspec": {
   "display_name": "Python 3 (ipykernel)",
   "language": "python",
   "name": "python3"
  },
  "language_info": {
   "codemirror_mode": {
    "name": "ipython",
    "version": 3
   },
   "file_extension": ".py",
   "mimetype": "text/x-python",
   "name": "python",
   "nbconvert_exporter": "python",
   "pygments_lexer": "ipython3",
   "version": "3.8.12"
  }
 },
 "nbformat": 4,
 "nbformat_minor": 5
}
